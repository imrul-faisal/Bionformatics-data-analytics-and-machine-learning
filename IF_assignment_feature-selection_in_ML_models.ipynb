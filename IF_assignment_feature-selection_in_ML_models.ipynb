{
 "cells": [
  {
   "cell_type": "markdown",
   "metadata": {},
   "source": [
    "# Excersice 4\n",
    "\n",
    "Feature selection:\n",
    "\n",
    "1. You need to load the UCI Arrhythmia dataset\n",
    "https://archive.ics.uci.edu/ml/datasets/arrhythmia\n",
    "* the problem is a multi-class classification\n",
    "\n",
    "2. For comparing the result you need to use kNN (k=3), and compare based on the accuracy with the original dataset (with the all features).\n",
    "\n",
    "2. Run three different types of feature selection methods (Univariate Statistics, model based, and Iterative Feature Selection).\n",
    "* The original data set has 279 features.\n",
    "* You need to run the methods for number_of_features= 20, 50, 100, 150, 200\n",
    "* All the results should show in the same figure (At the end we have just one figure)"
   ]
  },
  {
   "cell_type": "code",
   "execution_count": 1,
   "metadata": {},
   "outputs": [],
   "source": [
    "import pandas as pd\n",
    "import matplotlib.pyplot as plt\n",
    "import numpy as np\n",
    "import seaborn as sns\n",
    "from sklearn.model_selection import train_test_split, KFold, cross_val_score, GridSearchCV\n",
    "from sklearn.preprocessing import LabelEncoder\n",
    "from sklearn.linear_model import LogisticRegression\n",
    "from sklearn.tree import DecisionTreeClassifier\n",
    "from sklearn.neighbors import KNeighborsClassifier\n",
    "from sklearn.naive_bayes import GaussianNB\n",
    "from sklearn.svm import SVC\n",
    "from sklearn.model_selection import KFold\n",
    "from sklearn.preprocessing import StandardScaler, MinMaxScaler\n",
    "from sklearn.pipeline import Pipeline\n",
    "from sklearn.metrics import confusion_matrix\n",
    "from sklearn.impute import SimpleImputer\n",
    "from sklearn import metrics\n",
    "from sklearn.metrics import classification_report\n",
    "from sklearn.ensemble import RandomForestClassifier\n",
    "import warnings\n",
    "warnings.filterwarnings('ignore')"
   ]
  },
  {
   "cell_type": "code",
   "execution_count": 2,
   "metadata": {},
   "outputs": [
    {
     "data": {
      "text/html": [
       "<div>\n",
       "<style scoped>\n",
       "    .dataframe tbody tr th:only-of-type {\n",
       "        vertical-align: middle;\n",
       "    }\n",
       "\n",
       "    .dataframe tbody tr th {\n",
       "        vertical-align: top;\n",
       "    }\n",
       "\n",
       "    .dataframe thead th {\n",
       "        text-align: right;\n",
       "    }\n",
       "</style>\n",
       "<table border=\"1\" class=\"dataframe\">\n",
       "  <thead>\n",
       "    <tr style=\"text-align: right;\">\n",
       "      <th></th>\n",
       "      <th>0</th>\n",
       "      <th>1</th>\n",
       "      <th>2</th>\n",
       "      <th>3</th>\n",
       "      <th>4</th>\n",
       "      <th>5</th>\n",
       "      <th>6</th>\n",
       "      <th>7</th>\n",
       "      <th>8</th>\n",
       "      <th>9</th>\n",
       "      <th>...</th>\n",
       "      <th>270</th>\n",
       "      <th>271</th>\n",
       "      <th>272</th>\n",
       "      <th>273</th>\n",
       "      <th>274</th>\n",
       "      <th>275</th>\n",
       "      <th>276</th>\n",
       "      <th>277</th>\n",
       "      <th>278</th>\n",
       "      <th>279</th>\n",
       "    </tr>\n",
       "  </thead>\n",
       "  <tbody>\n",
       "    <tr>\n",
       "      <th>0</th>\n",
       "      <td>75</td>\n",
       "      <td>0</td>\n",
       "      <td>190</td>\n",
       "      <td>80</td>\n",
       "      <td>91</td>\n",
       "      <td>193</td>\n",
       "      <td>371</td>\n",
       "      <td>174</td>\n",
       "      <td>121</td>\n",
       "      <td>-16</td>\n",
       "      <td>...</td>\n",
       "      <td>0.0</td>\n",
       "      <td>9.0</td>\n",
       "      <td>-0.9</td>\n",
       "      <td>0.0</td>\n",
       "      <td>0.0</td>\n",
       "      <td>0.9</td>\n",
       "      <td>2.9</td>\n",
       "      <td>23.3</td>\n",
       "      <td>49.4</td>\n",
       "      <td>8</td>\n",
       "    </tr>\n",
       "    <tr>\n",
       "      <th>1</th>\n",
       "      <td>56</td>\n",
       "      <td>1</td>\n",
       "      <td>165</td>\n",
       "      <td>64</td>\n",
       "      <td>81</td>\n",
       "      <td>174</td>\n",
       "      <td>401</td>\n",
       "      <td>149</td>\n",
       "      <td>39</td>\n",
       "      <td>25</td>\n",
       "      <td>...</td>\n",
       "      <td>0.0</td>\n",
       "      <td>8.5</td>\n",
       "      <td>0.0</td>\n",
       "      <td>0.0</td>\n",
       "      <td>0.0</td>\n",
       "      <td>0.2</td>\n",
       "      <td>2.1</td>\n",
       "      <td>20.4</td>\n",
       "      <td>38.8</td>\n",
       "      <td>6</td>\n",
       "    </tr>\n",
       "    <tr>\n",
       "      <th>2</th>\n",
       "      <td>54</td>\n",
       "      <td>0</td>\n",
       "      <td>172</td>\n",
       "      <td>95</td>\n",
       "      <td>138</td>\n",
       "      <td>163</td>\n",
       "      <td>386</td>\n",
       "      <td>185</td>\n",
       "      <td>102</td>\n",
       "      <td>96</td>\n",
       "      <td>...</td>\n",
       "      <td>0.0</td>\n",
       "      <td>9.5</td>\n",
       "      <td>-2.4</td>\n",
       "      <td>0.0</td>\n",
       "      <td>0.0</td>\n",
       "      <td>0.3</td>\n",
       "      <td>3.4</td>\n",
       "      <td>12.3</td>\n",
       "      <td>49.0</td>\n",
       "      <td>10</td>\n",
       "    </tr>\n",
       "    <tr>\n",
       "      <th>3</th>\n",
       "      <td>55</td>\n",
       "      <td>0</td>\n",
       "      <td>175</td>\n",
       "      <td>94</td>\n",
       "      <td>100</td>\n",
       "      <td>202</td>\n",
       "      <td>380</td>\n",
       "      <td>179</td>\n",
       "      <td>143</td>\n",
       "      <td>28</td>\n",
       "      <td>...</td>\n",
       "      <td>0.0</td>\n",
       "      <td>12.2</td>\n",
       "      <td>-2.2</td>\n",
       "      <td>0.0</td>\n",
       "      <td>0.0</td>\n",
       "      <td>0.4</td>\n",
       "      <td>2.6</td>\n",
       "      <td>34.6</td>\n",
       "      <td>61.6</td>\n",
       "      <td>1</td>\n",
       "    </tr>\n",
       "    <tr>\n",
       "      <th>4</th>\n",
       "      <td>75</td>\n",
       "      <td>0</td>\n",
       "      <td>190</td>\n",
       "      <td>80</td>\n",
       "      <td>88</td>\n",
       "      <td>181</td>\n",
       "      <td>360</td>\n",
       "      <td>177</td>\n",
       "      <td>103</td>\n",
       "      <td>-16</td>\n",
       "      <td>...</td>\n",
       "      <td>0.0</td>\n",
       "      <td>13.1</td>\n",
       "      <td>-3.6</td>\n",
       "      <td>0.0</td>\n",
       "      <td>0.0</td>\n",
       "      <td>-0.1</td>\n",
       "      <td>3.9</td>\n",
       "      <td>25.4</td>\n",
       "      <td>62.8</td>\n",
       "      <td>7</td>\n",
       "    </tr>\n",
       "  </tbody>\n",
       "</table>\n",
       "<p>5 rows × 280 columns</p>\n",
       "</div>"
      ],
      "text/plain": [
       "   0    1    2    3    4    5    6    7    8    9    ...  270   271  272  273  \\\n",
       "0   75    0  190   80   91  193  371  174  121  -16  ...  0.0   9.0 -0.9  0.0   \n",
       "1   56    1  165   64   81  174  401  149   39   25  ...  0.0   8.5  0.0  0.0   \n",
       "2   54    0  172   95  138  163  386  185  102   96  ...  0.0   9.5 -2.4  0.0   \n",
       "3   55    0  175   94  100  202  380  179  143   28  ...  0.0  12.2 -2.2  0.0   \n",
       "4   75    0  190   80   88  181  360  177  103  -16  ...  0.0  13.1 -3.6  0.0   \n",
       "\n",
       "   274  275  276   277   278  279  \n",
       "0  0.0  0.9  2.9  23.3  49.4    8  \n",
       "1  0.0  0.2  2.1  20.4  38.8    6  \n",
       "2  0.0  0.3  3.4  12.3  49.0   10  \n",
       "3  0.0  0.4  2.6  34.6  61.6    1  \n",
       "4  0.0 -0.1  3.9  25.4  62.8    7  \n",
       "\n",
       "[5 rows x 280 columns]"
      ]
     },
     "execution_count": 2,
     "metadata": {},
     "output_type": "execute_result"
    }
   ],
   "source": [
    "url = \"https://archive.ics.uci.edu/ml/machine-learning-databases/arrhythmia/arrhythmia.data\"\n",
    "df = pd.read_csv(url, header=None)\n",
    "df.head()"
   ]
  },
  {
   "cell_type": "code",
   "execution_count": 3,
   "metadata": {},
   "outputs": [
    {
     "data": {
      "text/plain": [
       "(452, 280)"
      ]
     },
     "execution_count": 3,
     "metadata": {},
     "output_type": "execute_result"
    }
   ],
   "source": [
    "df.shape"
   ]
  },
  {
   "cell_type": "code",
   "execution_count": 4,
   "metadata": {},
   "outputs": [
    {
     "data": {
      "text/plain": [
       "False"
      ]
     },
     "execution_count": 4,
     "metadata": {},
     "output_type": "execute_result"
    }
   ],
   "source": [
    "#df[df.isnull().any(axis=1)]\n",
    "df.isnull().values.any()"
   ]
  },
  {
   "cell_type": "code",
   "execution_count": 5,
   "metadata": {},
   "outputs": [
    {
     "data": {
      "text/plain": [
       "[10, 11, 12, 13, 14]"
      ]
     },
     "execution_count": 5,
     "metadata": {},
     "output_type": "execute_result"
    }
   ],
   "source": [
    "# Split the frame as X and y\n",
    "features = df.iloc[:,:-1]\n",
    "target = df.iloc[:,-1]\n",
    "\n",
    "# Siince the dataset has '?' (missing) values, let's replace these by NaN\n",
    "features = features.replace('?', np.NaN)\n",
    "features.isnull().sum().sum() # check if we have NaN values now\n",
    "features.columns[features.isna().any()].tolist() # whiich columns have missing values"
   ]
  },
  {
   "cell_type": "code",
   "execution_count": 6,
   "metadata": {},
   "outputs": [
    {
     "data": {
      "text/plain": [
       "1     245\n",
       "10     50\n",
       "2      44\n",
       "6      25\n",
       "16     22\n",
       "4      15\n",
       "3      15\n",
       "5      13\n",
       "9       9\n",
       "15      5\n",
       "14      4\n",
       "7       3\n",
       "8       2\n",
       "Name: 279, dtype: int64"
      ]
     },
     "execution_count": 6,
     "metadata": {},
     "output_type": "execute_result"
    }
   ],
   "source": [
    "target.value_counts()"
   ]
  },
  {
   "cell_type": "code",
   "execution_count": 7,
   "metadata": {},
   "outputs": [
    {
     "data": {
      "text/plain": [
       "[10, 11, 12, 14]"
      ]
     },
     "execution_count": 7,
     "metadata": {},
     "output_type": "execute_result"
    }
   ],
   "source": [
    "# remove columns having >50% missing values.\n",
    "valueless_cols = len(features) * 0.5\n",
    "features.dropna(thresh = valueless_cols, axis = 1, inplace = True)\n",
    "features.columns[features.isna().any()].tolist() # whiich columns now have missing values"
   ]
  },
  {
   "cell_type": "code",
   "execution_count": 8,
   "metadata": {},
   "outputs": [
    {
     "data": {
      "text/plain": [
       "[]"
      ]
     },
     "execution_count": 8,
     "metadata": {},
     "output_type": "execute_result"
    }
   ],
   "source": [
    "# Replace rest of the missing values \n",
    "impute_med = SimpleImputer(missing_values=np.NaN, strategy='median') # impute by median values in columns\n",
    "imputer = impute_med.fit(features)\n",
    "df_imp = imputer.transform(features)\n",
    "features = pd.DataFrame(df_imp)\n",
    "features.columns[features.isna().any()].tolist() # which columns now have missing values"
   ]
  },
  {
   "cell_type": "code",
   "execution_count": 9,
   "metadata": {},
   "outputs": [],
   "source": [
    "# define X,y and train-test-split\n",
    "X=features.values\n",
    "y=target.values"
   ]
  },
  {
   "cell_type": "markdown",
   "metadata": {},
   "source": [
    "Some classification problems do not have a balanced number of examples for each class label. As such, it is desirable to split the dataset into train and test sets in a way that preserves the same proportions of examples in each class as observed in the original dataset. This is called a stratified train-test split. We can achieve this by setting the “stratify” argument to the y component of the original dataset. This will be used by the train_test_split() function to ensure that both the train and test sets have the proportion of examples in each class that is present in the provided “y” array."
   ]
  },
  {
   "cell_type": "code",
   "execution_count": 10,
   "metadata": {},
   "outputs": [
    {
     "data": {
      "text/plain": [
       "((339, 278), (339,), (113, 278), (113,))"
      ]
     },
     "execution_count": 10,
     "metadata": {},
     "output_type": "execute_result"
    }
   ],
   "source": [
    "# train-test-split using stratified y option\n",
    "X_train, X_test, y_train, y_test = train_test_split(X, y, shuffle = True, stratify = target, random_state=63)\n",
    "X_train.shape, y_train.shape, X_test.shape, y_test.shape"
   ]
  },
  {
   "cell_type": "markdown",
   "metadata": {},
   "source": [
    "For comparing the result you need to use kNN (k=3), and compare based on the accuracy with the original dataset (with the all features).\n",
    "Run three different types of feature selection methods (Univariate Statistics, model based, and Iterative Feature Selection).\n",
    "The original data set has 279 features.\n",
    "You need to run the methods for number_of_features= 20, 50, 100, 150, 200\n",
    "All the results should show in the same figure (At the end we have just one figure)"
   ]
  },
  {
   "cell_type": "code",
   "execution_count": 11,
   "metadata": {},
   "outputs": [
    {
     "name": "stdout",
     "output_type": "stream",
     "text": [
      "Train score: 0.73\n",
      "Test score: 0.63\n"
     ]
    }
   ],
   "source": [
    "knn = KNeighborsClassifier(n_neighbors = 3)\n",
    "knn.fit(X_train,y_train)\n",
    "y_pred = knn.predict(X_test)\n",
    "print(\"Train score: {:.2f}\".format(knn.score(X_train, y_train)))\n",
    "print(\"Test score: {:.2f}\".format(knn.score(X_test, y_test)))"
   ]
  },
  {
   "cell_type": "markdown",
   "metadata": {},
   "source": [
    "# I have tested preprocessing (scaliing) for this data, but it didn't improve the score. Therefore, will continue this dataset without scaling"
   ]
  },
  {
   "cell_type": "markdown",
   "metadata": {},
   "source": [
    "# Univariate Statistics"
   ]
  },
  {
   "cell_type": "code",
   "execution_count": 12,
   "metadata": {},
   "outputs": [
    {
     "name": "stdout",
     "output_type": "stream",
     "text": [
      "X_train.shape: (339, 278)\n",
      "X_train_selected.shape: (339, 20)\n",
      "              precision    recall  f1-score   support\n",
      "\n",
      "           1       0.60      0.97      0.74        61\n",
      "           2       1.00      0.27      0.43        11\n",
      "           3       1.00      0.75      0.86         4\n",
      "           4       0.00      0.00      0.00         4\n",
      "           5       0.00      0.00      0.00         3\n",
      "           6       0.33      0.17      0.22         6\n",
      "           7       0.00      0.00      0.00         1\n",
      "           8       0.00      0.00      0.00         1\n",
      "           9       1.00      1.00      1.00         2\n",
      "          10       1.00      0.23      0.38        13\n",
      "          14       0.00      0.00      0.00         1\n",
      "          15       0.00      0.00      0.00         1\n",
      "          16       0.00      0.00      0.00         5\n",
      "\n",
      "    accuracy                           0.63       113\n",
      "   macro avg       0.38      0.26      0.28       113\n",
      "weighted avg       0.61      0.63      0.55       113\n",
      "\n",
      "[[59  0  0  0  0  2  0  0  0  0  0  0  0]\n",
      " [ 8  3  0  0  0  0  0  0  0  0  0  0  0]\n",
      " [ 1  0  3  0  0  0  0  0  0  0  0  0  0]\n",
      " [ 4  0  0  0  0  0  0  0  0  0  0  0  0]\n",
      " [ 3  0  0  0  0  0  0  0  0  0  0  0  0]\n",
      " [ 5  0  0  0  0  1  0  0  0  0  0  0  0]\n",
      " [ 1  0  0  0  0  0  0  0  0  0  0  0  0]\n",
      " [ 1  0  0  0  0  0  0  0  0  0  0  0  0]\n",
      " [ 0  0  0  0  0  0  0  0  2  0  0  0  0]\n",
      " [ 9  0  0  0  1  0  0  0  0  3  0  0  0]\n",
      " [ 1  0  0  0  0  0  0  0  0  0  0  0  0]\n",
      " [ 1  0  0  0  0  0  0  0  0  0  0  0  0]\n",
      " [ 5  0  0  0  0  0  0  0  0  0  0  0  0]]\n"
     ]
    },
    {
     "data": {
      "text/plain": [
       "<matplotlib.axes._subplots.AxesSubplot at 0x7f2a79648810>"
      ]
     },
     "execution_count": 12,
     "metadata": {},
     "output_type": "execute_result"
    },
    {
     "data": {
      "image/png": "[encoded data removed]",
      "text/plain": [
       "<Figure size 432x288 with 2 Axes>"
      ]
     },
     "metadata": {
      "needs_background": "light"
     },
     "output_type": "display_data"
    }
   ],
   "source": [
    "from sklearn.feature_selection import SelectPercentile\n",
    "select = SelectPercentile(percentile=7)\n",
    "select.fit(X_train, y_train)\n",
    "X_train_selected = select.transform(X_train)\n",
    "print(\"X_train.shape: {}\".format(X_train.shape))\n",
    "print(\"X_train_selected.shape: {}\".format(X_train_selected.shape))\n",
    "model_preds = knn.predict(X_test)\n",
    "print(classification_report(y_test, model_preds))\n",
    "cm=confusion_matrix(y_test, model_preds)\n",
    "print(cm)\n",
    "sns.heatmap(cm, annot=True)"
   ]
  },
  {
   "cell_type": "code",
   "execution_count": 13,
   "metadata": {},
   "outputs": [
    {
     "data": {
      "text/plain": [
       "Text(0.5, 0, 'Sample index')"
      ]
     },
     "execution_count": 13,
     "metadata": {},
     "output_type": "execute_result"
    },
    {
     "data": {
      "image/png": "[encoded data removed]",
      "text/plain": [
       "<Figure size 1152x144 with 1 Axes>"
      ]
     },
     "metadata": {
      "needs_background": "light"
     },
     "output_type": "display_data"
    }
   ],
   "source": [
    "mask = select.get_support()\n",
    "#print(mask)\n",
    "# visualize the mask -- black is True, white is False\n",
    "plt.matshow(mask.reshape(1, -1), cmap='gray_r')\n",
    "plt.xlabel(\"Sample index\")"
   ]
  },
  {
   "cell_type": "code",
   "execution_count": 14,
   "metadata": {},
   "outputs": [
    {
     "name": "stdout",
     "output_type": "stream",
     "text": [
      "Score with all features: 0.628\n",
      "Score with only selected features: 0.628\n",
      "              precision    recall  f1-score   support\n",
      "\n",
      "           1       0.63      0.93      0.75        61\n",
      "           2       0.25      0.09      0.13        11\n",
      "           3       0.75      0.75      0.75         4\n",
      "           4       0.50      0.25      0.33         4\n",
      "           5       0.00      0.00      0.00         3\n",
      "           6       0.67      0.33      0.44         6\n",
      "           7       0.00      0.00      0.00         1\n",
      "           8       0.00      0.00      0.00         1\n",
      "           9       1.00      0.50      0.67         2\n",
      "          10       0.75      0.46      0.57        13\n",
      "          14       0.00      0.00      0.00         1\n",
      "          15       0.00      0.00      0.00         1\n",
      "          16       0.00      0.00      0.00         5\n",
      "\n",
      "    accuracy                           0.63       113\n",
      "   macro avg       0.35      0.26      0.28       113\n",
      "weighted avg       0.55      0.63      0.56       113\n",
      "\n",
      "[[57  3  0  0  0  1  0  0  0  0  0  0  0]\n",
      " [10  1  0  0  0  0  0  0  0  0  0  0  0]\n",
      " [ 1  0  3  0  0  0  0  0  0  0  0  0  0]\n",
      " [ 3  0  0  1  0  0  0  0  0  0  0  0  0]\n",
      " [ 3  0  0  0  0  0  0  0  0  0  0  0  0]\n",
      " [ 3  0  1  0  0  2  0  0  0  0  0  0  0]\n",
      " [ 1  0  0  0  0  0  0  0  0  0  0  0  0]\n",
      " [ 1  0  0  0  0  0  0  0  0  0  0  0  0]\n",
      " [ 1  0  0  0  0  0  0  0  1  0  0  0  0]\n",
      " [ 5  0  0  1  1  0  0  0  0  6  0  0  0]\n",
      " [ 0  0  0  0  0  0  0  0  0  1  0  0  0]\n",
      " [ 1  0  0  0  0  0  0  0  0  0  0  0  0]\n",
      " [ 4  0  0  0  0  0  0  0  0  1  0  0  0]]\n"
     ]
    },
    {
     "data": {
      "text/plain": [
       "<matplotlib.axes._subplots.AxesSubplot at 0x7f2a77054bd0>"
      ]
     },
     "execution_count": 14,
     "metadata": {},
     "output_type": "execute_result"
    },
    {
     "data": {
      "image/png": "[encoded data removed]",
      "text/plain": [
       "<Figure size 432x288 with 2 Axes>"
      ]
     },
     "metadata": {
      "needs_background": "light"
     },
     "output_type": "display_data"
    }
   ],
   "source": [
    "X_test_selected = select.transform(X_test)\n",
    "knn.fit(X_train, y_train)\n",
    "print(\"Score with all features: {:.3f}\".format(knn.score(X_test, y_test)))\n",
    "knn.fit(X_train_selected, y_train)\n",
    "print(\"Score with only selected features: {:.3f}\".format(knn.score(X_test_selected, y_test)))\n",
    "\n",
    "model_preds_selected = knn.predict(X_test_selected)\n",
    "print(classification_report(y_test, model_preds_selected))\n",
    "cm_selected=confusion_matrix(y_test, model_preds_selected)\n",
    "print(cm_selected)\n",
    "sns.heatmap(cm_selected, annot=True)"
   ]
  },
  {
   "cell_type": "code",
   "execution_count": 15,
   "metadata": {},
   "outputs": [
    {
     "name": "stdout",
     "output_type": "stream",
     "text": [
      "X_train.shape: (339, 278)\n",
      "X_train_selected.shape: (339, 20)\n",
      "Score with all features: 0.628\n",
      "Score with only selected features: 0.628\n",
      "X_train.shape: (339, 278)\n",
      "X_train_selected.shape: (339, 50)\n",
      "Score with all features: 0.628\n",
      "Score with only selected features: 0.628\n",
      "X_train.shape: (339, 278)\n",
      "X_train_selected.shape: (339, 100)\n",
      "Score with all features: 0.628\n",
      "Score with only selected features: 0.584\n",
      "X_train.shape: (339, 278)\n",
      "X_train_selected.shape: (339, 150)\n",
      "Score with all features: 0.628\n",
      "Score with only selected features: 0.637\n",
      "X_train.shape: (339, 278)\n",
      "X_train_selected.shape: (339, 200)\n",
      "Score with all features: 0.628\n",
      "Score with only selected features: 0.637\n",
      "X_train.shape: (339, 278)\n",
      "X_train_selected.shape: (339, 278)\n",
      "Score with all features: 0.628\n",
      "Score with only selected features: 0.628\n"
     ]
    },
    {
     "data": {
      "image/png": "[encoded data removed]",
      "text/plain": [
       "<Figure size 1152x360 with 1 Axes>"
      ]
     },
     "metadata": {
      "needs_background": "light"
     },
     "output_type": "display_data"
    }
   ],
   "source": [
    "orig_accuracy_univariate = []\n",
    "percentile_accuracy_univariate = []\n",
    "features_used = []\n",
    "percent_settings = [7, 18, 36, 54, 72, 100]\n",
    "for n in percent_settings:\n",
    "# build the model\n",
    "    select = SelectPercentile(percentile=n)\n",
    "    select.fit(X_train, y_train)\n",
    "    X_train_selected = select.transform(X_train)\n",
    "    print(\"X_train.shape: {}\".format(X_train.shape))\n",
    "    print(\"X_train_selected.shape: {}\".format(X_train_selected.shape))\n",
    "    features_used.append(X_train_selected.shape[1])\n",
    "    X_test_selected = select.transform(X_test)\n",
    "    knn.fit(X_train, y_train)\n",
    "    print(\"Score with all features: {:.3f}\".format(knn.score(X_test, y_test)))\n",
    "    orig_accuracy_univariate.append(knn.score(X_test, y_test))\n",
    "    knn.fit(X_train_selected, y_train)\n",
    "    print(\"Score with only selected features: {:.3f}\".format(knn.score(X_test_selected, y_test)))\n",
    "    percentile_accuracy_univariate.append(knn.score(X_test_selected, y_test))\n",
    "\n",
    "    \n",
    "def plot_univariate_percentile():\n",
    "    plt.figure(figsize=(16,5))\n",
    "    plt.plot(features_used, orig_accuracy_univariate, label=\"all features\")\n",
    "    plt.plot(features_used, percentile_accuracy_univariate, label=\"univariate features\")\n",
    "    plt.ylabel(\"Score ($R^2$)\")\n",
    "    plt.xlabel(\"Features used\")\n",
    "    plt.legend()\n",
    "\n",
    "plot_univariate_percentile()"
   ]
  },
  {
   "cell_type": "code",
   "execution_count": null,
   "metadata": {},
   "outputs": [],
   "source": []
  },
  {
   "cell_type": "markdown",
   "metadata": {},
   "source": [
    "# Iterative Feature Selection"
   ]
  },
  {
   "cell_type": "markdown",
   "metadata": {},
   "source": [
    "# This code, written for KNN, doesn't run \n",
    "\n",
    "from sklearn.feature_selection import RFE\n",
    "select = RFE(estimator=knn, n_features_to_select=40)\n",
    "select.fit(X_train, y_train)\n",
    "X_train_model = select.transform(X_train)\n",
    "print(\"X_train.shape: {}\".format(X_train.shape))\n",
    "print(\"X_train_l1.shape: {}\".format(X_train_model.shape))\n",
    "X_test_model = select.transform(X_test)\n",
    "score = knn.fit(X_train_model, y_train).score(X_test_model, y_test)\n",
    "print(\"Test score: {:.3f}\".format(score))"
   ]
  },
  {
   "cell_type": "markdown",
   "metadata": {},
   "source": [
    "# Running this iterative feature selection using random forest classifier\n",
    "\n",
    "# First, let's define suitable parameters using these features\n",
    "# This is time consuming, so I'll go with only n_estimator parameter tuning in the next cell\n",
    "newer_grid = [{'n_estimators': [50, 100, 150, 200, 500],\n",
    "    'max_features': ['auto', 'sqrt', 'log2'],\n",
    "    'max_depth' : [16, 20, 24], 'min_samples_split': [2, 4, 8],\n",
    "    'criterion' :['gini', 'entropy']}]\n",
    "gridsearch = GridSearchCV(estimator=RandomForestClassifier(), \n",
    "                          param_grid=newer_grid, \n",
    "                          scoring='accuracy', \n",
    "                          cv=5)\n",
    "gridsearch.fit(X_train, y_train)\n",
    "print(gridsearch.score(X_test, y_test))\n",
    "print(gridsearch.best_params_)"
   ]
  },
  {
   "cell_type": "code",
   "execution_count": 16,
   "metadata": {},
   "outputs": [
    {
     "name": "stdout",
     "output_type": "stream",
     "text": [
      "Training set score: 1.00\n",
      "Test set score: 0.72\n",
      "Training set score: 1.00\n",
      "Test set score: 0.73\n",
      "Training set score: 1.00\n",
      "Test set score: 0.73\n",
      "Training set score: 1.00\n",
      "Test set score: 0.71\n",
      "Training set score: 1.00\n",
      "Test set score: 0.71\n"
     ]
    },
    {
     "data": {
      "text/plain": [
       "<matplotlib.legend.Legend at 0x7f2a76d962d0>"
      ]
     },
     "execution_count": 16,
     "metadata": {},
     "output_type": "execute_result"
    },
    {
     "data": {
      "image/png": "[encoded data removed]",
      "text/plain": [
       "<Figure size 432x288 with 1 Axes>"
      ]
     },
     "metadata": {
      "needs_background": "light"
     },
     "output_type": "display_data"
    }
   ],
   "source": [
    "training_accuracy = []\n",
    "test_accuracy = []\n",
    "n_estimators = [50, 100, 150, 200, 500]\n",
    "for n in n_estimators:\n",
    "# build the model\n",
    "    rf = RandomForestClassifier(n_estimators=n, random_state=42).fit(X_train, y_train)\n",
    "# record training set accuracy\n",
    "    training_accuracy.append(rf.score(X_train, y_train))\n",
    "# record generalization accuracy\n",
    "    test_accuracy.append(rf.score(X_test, y_test))\n",
    "    print(\"Training set score: {:.2f}\".format(rf.score(X_train, y_train)))\n",
    "    print(\"Test set score: {:.2f}\".format(rf.score(X_test, y_test)))\n",
    "\n",
    "plt.plot(n_estimators, training_accuracy, label=\"training \")\n",
    "plt.plot(n_estimators, test_accuracy, label=\"test\")\n",
    "plt.ylabel(\"Score\")\n",
    "plt.xlabel(\"n_estimators\")\n",
    "plt.legend()"
   ]
  },
  {
   "cell_type": "code",
   "execution_count": 17,
   "metadata": {},
   "outputs": [
    {
     "name": "stdout",
     "output_type": "stream",
     "text": [
      "Train score: 1.00\n",
      "Test score: 0.73\n"
     ]
    }
   ],
   "source": [
    "# Since n_estimator 100 scored the best for test set, let's use this. Also, setting couuple of other parameters based on gridSearchCV run above\n",
    "rf = RandomForestClassifier(n_estimators=100, criterion='gini', max_depth=20, random_state=42)\n",
    "rf.fit(X_train,y_train)\n",
    "y_pred = rf.predict(X_test)\n",
    "print(\"Train score: {:.2f}\".format(rf.score(X_train, y_train)))\n",
    "print(\"Test score: {:.2f}\".format(rf.score(X_test, y_test)))"
   ]
  },
  {
   "cell_type": "code",
   "execution_count": 18,
   "metadata": {},
   "outputs": [
    {
     "data": {
      "text/plain": [
       "Text(0.5, 0, 'Sample index')"
      ]
     },
     "execution_count": 18,
     "metadata": {},
     "output_type": "execute_result"
    },
    {
     "data": {
      "image/png": "[encoded data removed]",
      "text/plain": [
       "<Figure size 1152x144 with 1 Axes>"
      ]
     },
     "metadata": {
      "needs_background": "light"
     },
     "output_type": "display_data"
    }
   ],
   "source": [
    "from sklearn.feature_selection import RFE\n",
    "select = RFE(RandomForestClassifier(n_estimators=100, random_state=42),\n",
    "n_features_to_select=40)\n",
    "select.fit(X_train, y_train)\n",
    "# visualize the selected features:\n",
    "mask = select.get_support()\n",
    "plt.matshow(mask.reshape(1, -1), cmap='gray_r')\n",
    "plt.xlabel(\"Sample index\")"
   ]
  },
  {
   "cell_type": "code",
   "execution_count": 19,
   "metadata": {},
   "outputs": [
    {
     "name": "stdout",
     "output_type": "stream",
     "text": [
      "X_train.shape: (339, 278)\n",
      "X_train_selected.shape: (339, 20)\n",
      "Score with all features: 0.735\n",
      "Score with only selected features: 0.735\n",
      "X_train.shape: (339, 278)\n",
      "X_train_selected.shape: (339, 50)\n",
      "Score with all features: 0.735\n",
      "Score with only selected features: 0.717\n",
      "X_train.shape: (339, 278)\n",
      "X_train_selected.shape: (339, 100)\n",
      "Score with all features: 0.735\n",
      "Score with only selected features: 0.726\n",
      "X_train.shape: (339, 278)\n",
      "X_train_selected.shape: (339, 150)\n",
      "Score with all features: 0.735\n",
      "Score with only selected features: 0.735\n",
      "X_train.shape: (339, 278)\n",
      "X_train_selected.shape: (339, 200)\n",
      "Score with all features: 0.735\n",
      "Score with only selected features: 0.699\n",
      "X_train.shape: (339, 278)\n",
      "X_train_selected.shape: (339, 278)\n",
      "Score with all features: 0.735\n",
      "Score with only selected features: 0.735\n"
     ]
    },
    {
     "data": {
      "image/png": "[encoded data removed]",
      "text/plain": [
       "<Figure size 1152x360 with 1 Axes>"
      ]
     },
     "metadata": {
      "needs_background": "light"
     },
     "output_type": "display_data"
    }
   ],
   "source": [
    "orig_accuracy_rfe = []\n",
    "selected_feature_accuracy_rfe = []\n",
    "features_used = []\n",
    "feature_numbers = [20, 50, 100, 150, 200, 278]\n",
    "for n in feature_numbers:\n",
    "# build the model\n",
    "    select = RFE(RandomForestClassifier(n_estimators=100, criterion='gini', max_depth=20, random_state=42), n_features_to_select=n)\n",
    "    select.fit(X_train, y_train)\n",
    "    X_train_selected = select.transform(X_train)\n",
    "    print(\"X_train.shape: {}\".format(X_train.shape))\n",
    "    print(\"X_train_selected.shape: {}\".format(X_train_selected.shape))\n",
    "    features_used.append(X_train_selected.shape[1])\n",
    "    X_test_selected = select.transform(X_test)\n",
    "    rf.fit(X_train, y_train)\n",
    "    print(\"Score with all features: {:.3f}\".format(rf.score(X_test, y_test)))\n",
    "    orig_accuracy_rfe.append(rf.score(X_test, y_test))\n",
    "    rf.fit(X_train_selected, y_train)\n",
    "    print(\"Score with only selected features: {:.3f}\".format(rf.score(X_test_selected, y_test)))\n",
    "    selected_feature_accuracy_rfe.append(rf.score(X_test_selected, y_test))\n",
    "\n",
    "    \n",
    "def plot_iterative_features():\n",
    "    plt.figure(figsize=(16,5))\n",
    "    plt.plot(features_used, orig_accuracy_rfe, label=\"all features\")\n",
    "    plt.plot(features_used, selected_feature_accuracy_rfe, label=\"selected features\")\n",
    "    plt.ylabel(\"Score ($R^2$)\")\n",
    "    plt.xlabel(\"Features used\")\n",
    "    plt.legend()\n",
    "\n",
    "plot_iterative_features()"
   ]
  },
  {
   "cell_type": "markdown",
   "metadata": {},
   "source": [
    "# model based feature selection"
   ]
  },
  {
   "cell_type": "markdown",
   "metadata": {},
   "source": [
    "# This code, written for KNN, doesn't run \n",
    "\n",
    "from sklearn.feature_selection import SelectFromModel\n",
    "select = SelectFromModel(estimator=knn)\n",
    "select.fit(X_train, y_train)\n",
    "X_train_model = select.transform(X_train)\n",
    "print(\"X_train.shape: {}\".format(X_train.shape))\n",
    "print(\"X_train_l1.shape: {}\".format(X_train_model.shape))\n",
    "X_test_model = select.transform(X_test)\n",
    "score = knn.fit(X_train_model, y_train).score(X_test_model, y_test)\n",
    "print(\"Test score: {:.3f}\".format(score))"
   ]
  },
  {
   "cell_type": "markdown",
   "metadata": {},
   "source": [
    "The instructor asked for the KNN, which doesn't expose \"coef_\" or \"feature_importances_\" attributes. Therefore, I chose another model for this task and the next one."
   ]
  },
  {
   "cell_type": "code",
   "execution_count": 20,
   "metadata": {},
   "outputs": [
    {
     "name": "stdout",
     "output_type": "stream",
     "text": [
      "+ ExtraTreeClassifier\n",
      "+ DecisionTreeClassifier\n",
      "- OneClassSVM \n",
      "- MLPClassifier \n",
      "- RadiusNeighborsClassifier \n",
      "- KNeighborsClassifier \n",
      "+ SGDClassifier\n",
      "+ RidgeClassifierCV\n",
      "+ RidgeClassifier\n",
      "+ PassiveAggressiveClassifier\n",
      "- GaussianProcessClassifier \n",
      "+ AdaBoostClassifier\n",
      "+ GradientBoostingClassifier\n",
      "- BaggingClassifier \n",
      "+ ExtraTreesClassifier\n",
      "+ RandomForestClassifier\n",
      "+ BernoulliNB\n",
      "- CalibratedClassifierCV \n",
      "- GaussianNB \n",
      "- LabelPropagation \n",
      "- LabelSpreading \n",
      "+ LinearDiscriminantAnalysis\n",
      "+ LinearSVC\n",
      "+ LogisticRegression\n",
      "+ LogisticRegressionCV\n",
      "+ MultinomialNB\n",
      "- NearestCentroid \n",
      "- NuSVC \n",
      "+ Perceptron\n",
      "- QuadraticDiscriminantAnalysis \n",
      "- SVC \n",
      "- GaussianMixture \n"
     ]
    }
   ],
   "source": [
    "# The codes below should be helpful in determining which classifiers should be optimum for this problem\n",
    "from sklearn.tree import ExtraTreeClassifier\n",
    "from sklearn.tree import DecisionTreeClassifier\n",
    "from sklearn.svm.classes import OneClassSVM\n",
    "from sklearn.neural_network.multilayer_perceptron import MLPClassifier\n",
    "from sklearn.neighbors.classification import RadiusNeighborsClassifier\n",
    "from sklearn.neighbors.classification import KNeighborsClassifier\n",
    "from sklearn.multiclass import OutputCodeClassifier\n",
    "from sklearn.multiclass import OneVsOneClassifier\n",
    "from sklearn.multiclass import OneVsRestClassifier\n",
    "from sklearn.linear_model.stochastic_gradient import SGDClassifier\n",
    "from sklearn.linear_model.ridge import RidgeClassifierCV\n",
    "from sklearn.linear_model.ridge import RidgeClassifier\n",
    "from sklearn.linear_model.passive_aggressive import PassiveAggressiveClassifier    \n",
    "from sklearn.gaussian_process.gpc import GaussianProcessClassifier\n",
    "from sklearn.ensemble.weight_boosting import AdaBoostClassifier\n",
    "from sklearn.ensemble.gradient_boosting import GradientBoostingClassifier\n",
    "from sklearn.ensemble.bagging import BaggingClassifier\n",
    "from sklearn.ensemble.forest import ExtraTreesClassifier\n",
    "from sklearn.ensemble.forest import RandomForestClassifier\n",
    "from sklearn.naive_bayes import BernoulliNB\n",
    "from sklearn.calibration import CalibratedClassifierCV\n",
    "from sklearn.naive_bayes import GaussianNB\n",
    "from sklearn.semi_supervised import LabelPropagation\n",
    "from sklearn.semi_supervised import LabelSpreading\n",
    "from sklearn.discriminant_analysis import LinearDiscriminantAnalysis\n",
    "from sklearn.svm import LinearSVC\n",
    "from sklearn.linear_model import LogisticRegression\n",
    "from sklearn.linear_model import LogisticRegressionCV\n",
    "from sklearn.naive_bayes import MultinomialNB  \n",
    "from sklearn.neighbors import NearestCentroid\n",
    "from sklearn.svm import NuSVC\n",
    "from sklearn.linear_model import Perceptron\n",
    "from sklearn.discriminant_analysis import QuadraticDiscriminantAnalysis\n",
    "from sklearn.svm import SVC\n",
    "from sklearn.mixture import GaussianMixture\n",
    "\n",
    "classifiers = [ExtraTreeClassifier, DecisionTreeClassifier, OneClassSVM, MLPClassifier, RadiusNeighborsClassifier,          \n",
    "               KNeighborsClassifier, # OutputCodeClassifier, OneVsOneClassifier, OneVsRestClassifier,            \n",
    "               SGDClassifier, RidgeClassifierCV, RidgeClassifier, PassiveAggressiveClassifier, \n",
    "               GaussianProcessClassifier, AdaBoostClassifier, GradientBoostingClassifier, \n",
    "               BaggingClassifier, ExtraTreesClassifier, RandomForestClassifier, BernoulliNB, CalibratedClassifierCV, \n",
    "               GaussianNB, LabelPropagation, LabelSpreading, LinearDiscriminantAnalysis, LinearSVC, \n",
    "               LogisticRegression, LogisticRegressionCV, MultinomialNB,   NearestCentroid, NuSVC, Perceptron, \n",
    "               QuadraticDiscriminantAnalysis, SVC, GaussianMixture]\n",
    "\n",
    "for cl in classifiers:\n",
    "    msg = ''\n",
    "    try:\n",
    "        c = cl().fit(np.random.rand(10,10), np.random.randint(0, 2, size=10))\n",
    "    except Exception as ex:\n",
    "        msg = ': ' + str(ex)\n",
    "        pass\n",
    "        \n",
    "    try:\n",
    "        c.coef_\n",
    "    except:\n",
    "        try: \n",
    "            c.feature_importances_\n",
    "        except:\n",
    "            print('-', c.__class__.__name__, msg)\n",
    "            continue\n",
    "    print('+', c.__class__.__name__)"
   ]
  },
  {
   "cell_type": "code",
   "execution_count": 21,
   "metadata": {},
   "outputs": [
    {
     "name": "stdout",
     "output_type": "stream",
     "text": [
      "X_train.shape: (339, 278)\n",
      "X_train_l1.shape: (339, 120)\n",
      "Test score: 0.735\n"
     ]
    }
   ],
   "source": [
    "# Let's run model based feature selection using random forest classifier\n",
    "from sklearn.feature_selection import SelectFromModel\n",
    "select = SelectFromModel(estimator=rf)\n",
    "select.fit(X_train, y_train)\n",
    "X_train_model = select.transform(X_train)\n",
    "print(\"X_train.shape: {}\".format(X_train.shape))\n",
    "print(\"X_train_l1.shape: {}\".format(X_train_model.shape))\n",
    "X_test_model = select.transform(X_test)\n",
    "score = rf.fit(X_train_model, y_train).score(X_test_model, y_test)\n",
    "print(\"Test score: {:.3f}\".format(score))"
   ]
  },
  {
   "cell_type": "code",
   "execution_count": 22,
   "metadata": {},
   "outputs": [
    {
     "name": "stdout",
     "output_type": "stream",
     "text": [
      "X_train.shape: (339, 278)\n",
      "X_train_selected.shape: (339, 20)\n",
      "Score with all features: 0.735\n",
      "Score with only selected features: 0.726\n",
      "X_train.shape: (339, 278)\n",
      "X_train_selected.shape: (339, 50)\n",
      "Score with all features: 0.735\n",
      "Score with only selected features: 0.743\n",
      "X_train.shape: (339, 278)\n",
      "X_train_selected.shape: (339, 100)\n",
      "Score with all features: 0.735\n",
      "Score with only selected features: 0.726\n",
      "X_train.shape: (339, 278)\n",
      "X_train_selected.shape: (339, 150)\n",
      "Score with all features: 0.735\n",
      "Score with only selected features: 0.735\n",
      "X_train.shape: (339, 278)\n",
      "X_train_selected.shape: (339, 200)\n",
      "Score with all features: 0.735\n",
      "Score with only selected features: 0.743\n",
      "X_train.shape: (339, 278)\n",
      "X_train_selected.shape: (339, 278)\n",
      "Score with all features: 0.735\n",
      "Score with only selected features: 0.735\n"
     ]
    },
    {
     "data": {
      "image/png": "[encoded data removed]",
      "text/plain": [
       "<Figure size 1152x360 with 1 Axes>"
      ]
     },
     "metadata": {
      "needs_background": "light"
     },
     "output_type": "display_data"
    }
   ],
   "source": [
    "orig_accuracy_model = []\n",
    "selected_feature_accuracy_model = []\n",
    "features_used = []\n",
    "feature_numbers = [20, 50, 100, 150, 200, 278]\n",
    "for n in feature_numbers:\n",
    "# build the model\n",
    "    select = SelectFromModel(rf, threshold=-np.inf, max_features=n)\n",
    "    select.fit(X_train, y_train)\n",
    "    X_train_selected = select.transform(X_train)\n",
    "    print(\"X_train.shape: {}\".format(X_train.shape))\n",
    "    print(\"X_train_selected.shape: {}\".format(X_train_selected.shape))\n",
    "    features_used.append(X_train_selected.shape[1])\n",
    "    X_test_selected = select.transform(X_test)\n",
    "    rf.fit(X_train, y_train)\n",
    "    print(\"Score with all features: {:.3f}\".format(rf.score(X_test, y_test)))\n",
    "    orig_accuracy_model.append(rf.score(X_test, y_test))\n",
    "    rf.fit(X_train_selected, y_train)\n",
    "    print(\"Score with only selected features: {:.3f}\".format(rf.score(X_test_selected, y_test)))\n",
    "    selected_feature_accuracy_model.append(rf.score(X_test_selected, y_test))\n",
    "\n",
    "    \n",
    "def plot_model_based_feature_selection():\n",
    "    plt.figure(figsize=(16,5))\n",
    "    plt.plot(features_used, orig_accuracy_model, label=\"all features\")\n",
    "    plt.plot(features_used, selected_feature_accuracy_model, label=\"selected features\")\n",
    "    plt.ylabel(\"Score ($R^2$)\")\n",
    "    plt.xlabel(\"Features used\")\n",
    "    plt.legend()\n",
    "\n",
    "plot_model_based_feature_selection()"
   ]
  },
  {
   "cell_type": "code",
   "execution_count": 23,
   "metadata": {},
   "outputs": [
    {
     "data": {
      "text/plain": [
       "<matplotlib.axes._subplots.AxesSubplot at 0x7f2a7562ab90>"
      ]
     },
     "execution_count": 23,
     "metadata": {},
     "output_type": "execute_result"
    },
    {
     "data": {
      "image/png": "[encoded data removed]",
      "text/plain": [
       "<Figure size 936x576 with 1 Axes>"
      ]
     },
     "metadata": {},
     "output_type": "display_data"
    }
   ],
   "source": [
    "#plt.figure(figsize=(16,8))\n",
    "sns.set(rc={'figure.figsize':(13,8)})\n",
    "sns.lineplot(x=features_used, y=orig_accuracy_univariate, label=\"all_univariate\")\n",
    "sns.lineplot(x=features_used, y=percentile_accuracy_univariate, label=\"selected_univariate\")\n",
    "sns.lineplot(x=features_used, y=orig_accuracy_rfe, label=\"all_RFE\")\n",
    "sns.lineplot(x=features_used, y=selected_feature_accuracy_rfe, label=\"selected_RFE\")\n",
    "sns.lineplot(x=features_used, y=orig_accuracy_model, label=\"all_model\")\n",
    "sns.lineplot(x=features_used, y=selected_feature_accuracy_model, label=\"selected_model\")\n"
   ]
  },
  {
   "cell_type": "code",
   "execution_count": 24,
   "metadata": {},
   "outputs": [
    {
     "data": {
      "text/html": [
       "<div>\n",
       "<style scoped>\n",
       "    .dataframe tbody tr th:only-of-type {\n",
       "        vertical-align: middle;\n",
       "    }\n",
       "\n",
       "    .dataframe tbody tr th {\n",
       "        vertical-align: top;\n",
       "    }\n",
       "\n",
       "    .dataframe thead th {\n",
       "        text-align: right;\n",
       "    }\n",
       "</style>\n",
       "<table border=\"1\" class=\"dataframe\">\n",
       "  <thead>\n",
       "    <tr style=\"text-align: right;\">\n",
       "      <th></th>\n",
       "      <th>all_univariate</th>\n",
       "      <th>selected_univariate</th>\n",
       "      <th>all_RFE</th>\n",
       "      <th>selected_RFE</th>\n",
       "      <th>all_model</th>\n",
       "      <th>selected_model</th>\n",
       "    </tr>\n",
       "  </thead>\n",
       "  <tbody>\n",
       "    <tr>\n",
       "      <th>20</th>\n",
       "      <td>0.628319</td>\n",
       "      <td>0.628319</td>\n",
       "      <td>0.734513</td>\n",
       "      <td>0.734513</td>\n",
       "      <td>0.734513</td>\n",
       "      <td>0.725664</td>\n",
       "    </tr>\n",
       "    <tr>\n",
       "      <th>50</th>\n",
       "      <td>0.628319</td>\n",
       "      <td>0.628319</td>\n",
       "      <td>0.734513</td>\n",
       "      <td>0.716814</td>\n",
       "      <td>0.734513</td>\n",
       "      <td>0.743363</td>\n",
       "    </tr>\n",
       "    <tr>\n",
       "      <th>100</th>\n",
       "      <td>0.628319</td>\n",
       "      <td>0.584071</td>\n",
       "      <td>0.734513</td>\n",
       "      <td>0.725664</td>\n",
       "      <td>0.734513</td>\n",
       "      <td>0.725664</td>\n",
       "    </tr>\n",
       "    <tr>\n",
       "      <th>150</th>\n",
       "      <td>0.628319</td>\n",
       "      <td>0.637168</td>\n",
       "      <td>0.734513</td>\n",
       "      <td>0.734513</td>\n",
       "      <td>0.734513</td>\n",
       "      <td>0.734513</td>\n",
       "    </tr>\n",
       "    <tr>\n",
       "      <th>200</th>\n",
       "      <td>0.628319</td>\n",
       "      <td>0.637168</td>\n",
       "      <td>0.734513</td>\n",
       "      <td>0.699115</td>\n",
       "      <td>0.734513</td>\n",
       "      <td>0.743363</td>\n",
       "    </tr>\n",
       "    <tr>\n",
       "      <th>278</th>\n",
       "      <td>0.628319</td>\n",
       "      <td>0.628319</td>\n",
       "      <td>0.734513</td>\n",
       "      <td>0.734513</td>\n",
       "      <td>0.734513</td>\n",
       "      <td>0.734513</td>\n",
       "    </tr>\n",
       "  </tbody>\n",
       "</table>\n",
       "</div>"
      ],
      "text/plain": [
       "     all_univariate  selected_univariate   all_RFE  selected_RFE  all_model  \\\n",
       "20         0.628319             0.628319  0.734513      0.734513   0.734513   \n",
       "50         0.628319             0.628319  0.734513      0.716814   0.734513   \n",
       "100        0.628319             0.584071  0.734513      0.725664   0.734513   \n",
       "150        0.628319             0.637168  0.734513      0.734513   0.734513   \n",
       "200        0.628319             0.637168  0.734513      0.699115   0.734513   \n",
       "278        0.628319             0.628319  0.734513      0.734513   0.734513   \n",
       "\n",
       "     selected_model  \n",
       "20         0.725664  \n",
       "50         0.743363  \n",
       "100        0.725664  \n",
       "150        0.734513  \n",
       "200        0.743363  \n",
       "278        0.734513  "
      ]
     },
     "execution_count": 24,
     "metadata": {},
     "output_type": "execute_result"
    }
   ],
   "source": [
    "# Let's define a data frame using all the scores\n",
    "df = pd.DataFrame({\"all_univariate\": orig_accuracy_univariate,\n",
    "                 \"selected_univariate\" : percentile_accuracy_univariate,\n",
    "                 \"all_RFE\": orig_accuracy_rfe,\n",
    "                \"selected_RFE\": selected_feature_accuracy_rfe,\n",
    "                   \"all_model\": orig_accuracy_model,\n",
    "                   \"selected_model\": selected_feature_accuracy_model})\n",
    "df.index=features_used\n",
    "df"
   ]
  },
  {
   "cell_type": "code",
   "execution_count": 25,
   "metadata": {},
   "outputs": [
    {
     "data": {
      "text/plain": [
       "Text(0, 0.5, 'Score')"
      ]
     },
     "execution_count": 25,
     "metadata": {},
     "output_type": "execute_result"
    },
    {
     "data": {
      "image/png": "[encoded data removed]",
      "text/plain": [
       "<Figure size 936x576 with 1 Axes>"
      ]
     },
     "metadata": {},
     "output_type": "display_data"
    }
   ],
   "source": [
    "# Now plot them altogether in one figure\n",
    "f, ax = plt.subplots(1, 1)\n",
    "ax=sns.lineplot(x=df.index, y=orig_accuracy_univariate, label=\"all_univariate\", data=df)\n",
    "ax=sns.lineplot(x=features_used, y=percentile_accuracy_univariate, label=\"selected_univariate\")\n",
    "ax=sns.lineplot(x=features_used, y=orig_accuracy_rfe, label=\"all_RFE\")\n",
    "ax=sns.lineplot(x=features_used, y=selected_feature_accuracy_rfe, label=\"selected_RFE\")\n",
    "ax=sns.lineplot(x=features_used, y=orig_accuracy_model, label=\"all_model\")\n",
    "ax=sns.lineplot(x=features_used, y=selected_feature_accuracy_model, label=\"selected_model\")\n",
    "ax.set_xlabel(\"Features used\", fontsize = 20)\n",
    "ax.set_ylabel(\"Score\", fontsize = 20)"
   ]
  },
  {
   "cell_type": "markdown",
   "metadata": {},
   "source": [
    "# If a model has hundreds of features (e.g. this arrythmia dataset), we can use less number of features without compromising the score significantly. Here, in this plot, using 20 to 50 features doesn't look bad (although featires 150-200 looks even better). Therefore, using only 20 to 50 features might make the model very fast to run."
   ]
  },
  {
   "cell_type": "code",
   "execution_count": null,
   "metadata": {},
   "outputs": [],
   "source": []
  }
 ],
 "metadata": {
  "kernelspec": {
   "display_name": "Python 3",
   "language": "python",
   "name": "python3"
  },
  "language_info": {
   "codemirror_mode": {
    "name": "ipython",
    "version": 3
   },
   "file_extension": ".py",
   "mimetype": "text/x-python",
   "name": "python",
   "nbconvert_exporter": "python",
   "pygments_lexer": "ipython3",
   "version": "3.7.8"
  }
 },
 "nbformat": 4,
 "nbformat_minor": 4
}
