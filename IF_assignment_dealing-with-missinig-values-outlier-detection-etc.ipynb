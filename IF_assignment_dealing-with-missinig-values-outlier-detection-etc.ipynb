{
 "cells": [
  {
   "cell_type": "markdown",
   "metadata": {},
   "source": [
    "# Assignment 6\n",
    "1. Use yeast dataset from UCI http://archive.ics.uci.edu/ml/machine-learning-databases/yeast/yeast.data\n",
    "2. Remove the first column and use the last column as the target\n",
    "3. Only leave CYT and VAC classes\n",
    "4. Replace [0.3, 0.5, 0.7] in feature 2 to null\n",
    "5. Replace [0.26, 0.36, 0.64] in feature 3 to null\n",
    "6. Split the data\n",
    "\n",
    "7. Impute the data (or not, it's your call)\n",
    "8. Build a outlier detection model to classify VAC from CYT, i.e. 0 from 1\n",
    "9. Build a classifer using sample augmentation techniques to flassify VAC from CYT, i.e. 0 from 1\n",
    "10. Try different methods and hyper paramters\n",
    "\n",
    "11. Report perfromance using F-1 score"
   ]
  },
  {
   "cell_type": "code",
   "execution_count": 1,
   "metadata": {},
   "outputs": [],
   "source": [
    "import pandas as pd\n",
    "import matplotlib.pyplot as plt\n",
    "import numpy as np\n",
    "import seaborn as sns\n",
    "from sklearn.model_selection import train_test_split, KFold, cross_val_score, GridSearchCV\n",
    "\n",
    "import warnings\n",
    "warnings.filterwarnings(\"ignore\", category=DeprecationWarning) \n",
    "warnings.filterwarnings(\"ignore\", category=FutureWarning)"
   ]
  },
  {
   "cell_type": "code",
   "execution_count": 2,
   "metadata": {},
   "outputs": [],
   "source": [
    "url = 'http://archive.ics.uci.edu/ml/machine-learning-databases/yeast/yeast.data'\n",
    "#df = pd.read_fwf(url)\n",
    "df=pd.read_csv(url, header=None, delim_whitespace=True, names=['name', 'mcg', 'gvh', 'alm', 'mit', 'erl', 'pox', 'vac', 'nuc', 'class_dist' ] )"
   ]
  },
  {
   "cell_type": "code",
   "execution_count": 3,
   "metadata": {},
   "outputs": [
    {
     "data": {
      "text/plain": [
       "(1484, 10)"
      ]
     },
     "execution_count": 3,
     "metadata": {},
     "output_type": "execute_result"
    }
   ],
   "source": [
    "df.shape"
   ]
  },
  {
   "cell_type": "code",
   "execution_count": 4,
   "metadata": {},
   "outputs": [
    {
     "data": {
      "text/plain": [
       "False"
      ]
     },
     "execution_count": 4,
     "metadata": {},
     "output_type": "execute_result"
    }
   ],
   "source": [
    "df.isnull().values.any()"
   ]
  },
  {
   "cell_type": "code",
   "execution_count": 5,
   "metadata": {},
   "outputs": [
    {
     "data": {
      "text/html": [
       "<div>\n",
       "<style scoped>\n",
       "    .dataframe tbody tr th:only-of-type {\n",
       "        vertical-align: middle;\n",
       "    }\n",
       "\n",
       "    .dataframe tbody tr th {\n",
       "        vertical-align: top;\n",
       "    }\n",
       "\n",
       "    .dataframe thead th {\n",
       "        text-align: right;\n",
       "    }\n",
       "</style>\n",
       "<table border=\"1\" class=\"dataframe\">\n",
       "  <thead>\n",
       "    <tr style=\"text-align: right;\">\n",
       "      <th></th>\n",
       "      <th>name</th>\n",
       "      <th>mcg</th>\n",
       "      <th>gvh</th>\n",
       "      <th>alm</th>\n",
       "      <th>mit</th>\n",
       "      <th>erl</th>\n",
       "      <th>pox</th>\n",
       "      <th>vac</th>\n",
       "      <th>nuc</th>\n",
       "      <th>class_dist</th>\n",
       "    </tr>\n",
       "  </thead>\n",
       "  <tbody>\n",
       "    <tr>\n",
       "      <th>0</th>\n",
       "      <td>ADT1_YEAST</td>\n",
       "      <td>0.58</td>\n",
       "      <td>0.61</td>\n",
       "      <td>0.47</td>\n",
       "      <td>0.13</td>\n",
       "      <td>0.5</td>\n",
       "      <td>0.0</td>\n",
       "      <td>0.48</td>\n",
       "      <td>0.22</td>\n",
       "      <td>MIT</td>\n",
       "    </tr>\n",
       "    <tr>\n",
       "      <th>1</th>\n",
       "      <td>ADT2_YEAST</td>\n",
       "      <td>0.43</td>\n",
       "      <td>0.67</td>\n",
       "      <td>0.48</td>\n",
       "      <td>0.27</td>\n",
       "      <td>0.5</td>\n",
       "      <td>0.0</td>\n",
       "      <td>0.53</td>\n",
       "      <td>0.22</td>\n",
       "      <td>MIT</td>\n",
       "    </tr>\n",
       "    <tr>\n",
       "      <th>2</th>\n",
       "      <td>ADT3_YEAST</td>\n",
       "      <td>0.64</td>\n",
       "      <td>0.62</td>\n",
       "      <td>0.49</td>\n",
       "      <td>0.15</td>\n",
       "      <td>0.5</td>\n",
       "      <td>0.0</td>\n",
       "      <td>0.53</td>\n",
       "      <td>0.22</td>\n",
       "      <td>MIT</td>\n",
       "    </tr>\n",
       "    <tr>\n",
       "      <th>3</th>\n",
       "      <td>AAR2_YEAST</td>\n",
       "      <td>0.58</td>\n",
       "      <td>0.44</td>\n",
       "      <td>0.57</td>\n",
       "      <td>0.13</td>\n",
       "      <td>0.5</td>\n",
       "      <td>0.0</td>\n",
       "      <td>0.54</td>\n",
       "      <td>0.22</td>\n",
       "      <td>NUC</td>\n",
       "    </tr>\n",
       "    <tr>\n",
       "      <th>4</th>\n",
       "      <td>AATM_YEAST</td>\n",
       "      <td>0.42</td>\n",
       "      <td>0.44</td>\n",
       "      <td>0.48</td>\n",
       "      <td>0.54</td>\n",
       "      <td>0.5</td>\n",
       "      <td>0.0</td>\n",
       "      <td>0.48</td>\n",
       "      <td>0.22</td>\n",
       "      <td>MIT</td>\n",
       "    </tr>\n",
       "  </tbody>\n",
       "</table>\n",
       "</div>"
      ],
      "text/plain": [
       "         name   mcg   gvh   alm   mit  erl  pox   vac   nuc class_dist\n",
       "0  ADT1_YEAST  0.58  0.61  0.47  0.13  0.5  0.0  0.48  0.22        MIT\n",
       "1  ADT2_YEAST  0.43  0.67  0.48  0.27  0.5  0.0  0.53  0.22        MIT\n",
       "2  ADT3_YEAST  0.64  0.62  0.49  0.15  0.5  0.0  0.53  0.22        MIT\n",
       "3  AAR2_YEAST  0.58  0.44  0.57  0.13  0.5  0.0  0.54  0.22        NUC\n",
       "4  AATM_YEAST  0.42  0.44  0.48  0.54  0.5  0.0  0.48  0.22        MIT"
      ]
     },
     "execution_count": 5,
     "metadata": {},
     "output_type": "execute_result"
    }
   ],
   "source": [
    "df.head()"
   ]
  },
  {
   "cell_type": "code",
   "execution_count": 6,
   "metadata": {},
   "outputs": [
    {
     "data": {
      "text/plain": [
       "0    MIT\n",
       "1    MIT\n",
       "2    MIT\n",
       "3    NUC\n",
       "4    MIT\n",
       "Name: class_dist, dtype: object"
      ]
     },
     "execution_count": 6,
     "metadata": {},
     "output_type": "execute_result"
    }
   ],
   "source": [
    "df['class_dist'].head()"
   ]
  },
  {
   "cell_type": "code",
   "execution_count": 7,
   "metadata": {},
   "outputs": [],
   "source": [
    "# Only leave CYT and VAC classes\n",
    "df_sliced = df[(df['class_dist'] == 'CYT') | (df['class_dist'] == 'VAC')]"
   ]
  },
  {
   "cell_type": "code",
   "execution_count": 8,
   "metadata": {},
   "outputs": [
    {
     "data": {
      "text/plain": [
       "CYT    463\n",
       "VAC     30\n",
       "Name: class_dist, dtype: int64"
      ]
     },
     "execution_count": 8,
     "metadata": {},
     "output_type": "execute_result"
    }
   ],
   "source": [
    "df_sliced.class_dist.value_counts()"
   ]
  },
  {
   "cell_type": "code",
   "execution_count": 9,
   "metadata": {},
   "outputs": [
    {
     "name": "stderr",
     "output_type": "stream",
     "text": [
      "/opt/conda/lib/python3.7/site-packages/pandas/core/frame.py:3997: SettingWithCopyWarning: \n",
      "A value is trying to be set on a copy of a slice from a DataFrame\n",
      "\n",
      "See the caveats in the documentation: https://pandas.pydata.org/pandas-docs/stable/user_guide/indexing.html#returning-a-view-versus-a-copy\n",
      "  errors=errors,\n"
     ]
    },
    {
     "data": {
      "text/html": [
       "<div>\n",
       "<style scoped>\n",
       "    .dataframe tbody tr th:only-of-type {\n",
       "        vertical-align: middle;\n",
       "    }\n",
       "\n",
       "    .dataframe tbody tr th {\n",
       "        vertical-align: top;\n",
       "    }\n",
       "\n",
       "    .dataframe thead th {\n",
       "        text-align: right;\n",
       "    }\n",
       "</style>\n",
       "<table border=\"1\" class=\"dataframe\">\n",
       "  <thead>\n",
       "    <tr style=\"text-align: right;\">\n",
       "      <th></th>\n",
       "      <th>mcg</th>\n",
       "      <th>gvh</th>\n",
       "      <th>alm</th>\n",
       "      <th>mit</th>\n",
       "      <th>erl</th>\n",
       "      <th>pox</th>\n",
       "      <th>vac</th>\n",
       "      <th>nuc</th>\n",
       "      <th>class_dist</th>\n",
       "    </tr>\n",
       "  </thead>\n",
       "  <tbody>\n",
       "    <tr>\n",
       "      <th>5</th>\n",
       "      <td>0.51</td>\n",
       "      <td>0.40</td>\n",
       "      <td>0.56</td>\n",
       "      <td>0.17</td>\n",
       "      <td>0.5</td>\n",
       "      <td>0.5</td>\n",
       "      <td>0.49</td>\n",
       "      <td>0.22</td>\n",
       "      <td>CYT</td>\n",
       "    </tr>\n",
       "    <tr>\n",
       "      <th>9</th>\n",
       "      <td>0.40</td>\n",
       "      <td>0.39</td>\n",
       "      <td>0.60</td>\n",
       "      <td>0.15</td>\n",
       "      <td>0.5</td>\n",
       "      <td>0.0</td>\n",
       "      <td>0.58</td>\n",
       "      <td>0.30</td>\n",
       "      <td>CYT</td>\n",
       "    </tr>\n",
       "    <tr>\n",
       "      <th>12</th>\n",
       "      <td>0.40</td>\n",
       "      <td>0.42</td>\n",
       "      <td>0.57</td>\n",
       "      <td>0.35</td>\n",
       "      <td>0.5</td>\n",
       "      <td>0.0</td>\n",
       "      <td>0.53</td>\n",
       "      <td>0.25</td>\n",
       "      <td>CYT</td>\n",
       "    </tr>\n",
       "    <tr>\n",
       "      <th>15</th>\n",
       "      <td>0.46</td>\n",
       "      <td>0.44</td>\n",
       "      <td>0.52</td>\n",
       "      <td>0.11</td>\n",
       "      <td>0.5</td>\n",
       "      <td>0.0</td>\n",
       "      <td>0.50</td>\n",
       "      <td>0.22</td>\n",
       "      <td>CYT</td>\n",
       "    </tr>\n",
       "    <tr>\n",
       "      <th>16</th>\n",
       "      <td>0.47</td>\n",
       "      <td>0.39</td>\n",
       "      <td>0.50</td>\n",
       "      <td>0.11</td>\n",
       "      <td>0.5</td>\n",
       "      <td>0.0</td>\n",
       "      <td>0.49</td>\n",
       "      <td>0.40</td>\n",
       "      <td>CYT</td>\n",
       "    </tr>\n",
       "  </tbody>\n",
       "</table>\n",
       "</div>"
      ],
      "text/plain": [
       "     mcg   gvh   alm   mit  erl  pox   vac   nuc class_dist\n",
       "5   0.51  0.40  0.56  0.17  0.5  0.5  0.49  0.22        CYT\n",
       "9   0.40  0.39  0.60  0.15  0.5  0.0  0.58  0.30        CYT\n",
       "12  0.40  0.42  0.57  0.35  0.5  0.0  0.53  0.25        CYT\n",
       "15  0.46  0.44  0.52  0.11  0.5  0.0  0.50  0.22        CYT\n",
       "16  0.47  0.39  0.50  0.11  0.5  0.0  0.49  0.40        CYT"
      ]
     },
     "execution_count": 9,
     "metadata": {},
     "output_type": "execute_result"
    }
   ],
   "source": [
    "#df_sliced.drop('name')\n",
    "df_sliced.drop('name', inplace=True, axis=1)\n",
    "df_sliced.head()"
   ]
  },
  {
   "cell_type": "code",
   "execution_count": 10,
   "metadata": {},
   "outputs": [],
   "source": [
    "df_sliced_null=df_sliced.copy()"
   ]
  },
  {
   "cell_type": "code",
   "execution_count": 11,
   "metadata": {},
   "outputs": [],
   "source": [
    "#Replace [0.3, 0.5, 0.7] in feature 2 to null\n",
    "df_sliced_null['gvh'] = df_sliced_null['gvh'].replace([0.3, 0.5, 0.7], np.nan)\n",
    "\n",
    "#Replace [0.26, 0.36, 0.64] in feature 3 to null\n",
    "df_sliced_null['alm'] = df_sliced_null['alm'].replace([0.26, 0.36, 0.64], np.nan)"
   ]
  },
  {
   "cell_type": "code",
   "execution_count": null,
   "metadata": {},
   "outputs": [],
   "source": []
  },
  {
   "cell_type": "code",
   "execution_count": 12,
   "metadata": {},
   "outputs": [
    {
     "data": {
      "text/plain": [
       "mcg           False\n",
       "gvh            True\n",
       "alm            True\n",
       "mit           False\n",
       "erl           False\n",
       "pox           False\n",
       "vac           False\n",
       "nuc           False\n",
       "class_dist    False\n",
       "dtype: bool"
      ]
     },
     "execution_count": 12,
     "metadata": {},
     "output_type": "execute_result"
    }
   ],
   "source": [
    "df_sliced_null.isnull().any()"
   ]
  },
  {
   "cell_type": "code",
   "execution_count": 13,
   "metadata": {},
   "outputs": [
    {
     "name": "stderr",
     "output_type": "stream",
     "text": [
      "/opt/conda/lib/python3.7/site-packages/ipykernel_launcher.py:5: SettingWithCopyWarning: \n",
      "A value is trying to be set on a copy of a slice from a DataFrame.\n",
      "Try using .loc[row_indexer,col_indexer] = value instead\n",
      "\n",
      "See the caveats in the documentation: https://pandas.pydata.org/pandas-docs/stable/user_guide/indexing.html#returning-a-view-versus-a-copy\n",
      "  \"\"\"\n"
     ]
    }
   ],
   "source": [
    "from sklearn.preprocessing import LabelEncoder\n",
    "LabelEncoder().fit_transform(df_sliced_null[\"class_dist\"])\n",
    "df_sliced_null[\"class_dist\"] = LabelEncoder().fit_transform(df_sliced_null[\"class_dist\"])\n",
    "LabelEncoder().fit_transform(df_sliced[\"class_dist\"])\n",
    "df_sliced[\"class_dist\"] = LabelEncoder().fit_transform(df_sliced[\"class_dist\"])\n",
    "#df_sliced_null.head()"
   ]
  },
  {
   "cell_type": "code",
   "execution_count": 14,
   "metadata": {},
   "outputs": [],
   "source": [
    "features = df_sliced_null.iloc[:,:-1]\n",
    "target = df_sliced_null.iloc[:,-1]\n",
    "\n",
    "X=features.values\n",
    "y=target.values\n",
    "\n",
    "# Split the data\n",
    "X_train, X_test, y_train, y_test=train_test_split(X, y, random_state=63)"
   ]
  },
  {
   "cell_type": "markdown",
   "metadata": {},
   "source": [
    "I have tried LogisticRegression and LinearSVC, and these classifiers can't handle dataset with missing values. Therefore, I will impute the missiing values first"
   ]
  },
  {
   "cell_type": "code",
   "execution_count": 15,
   "metadata": {},
   "outputs": [],
   "source": [
    "# Impute the missing values\n",
    "from sklearn.pipeline import FeatureUnion, make_pipeline\n",
    "from sklearn.impute import SimpleImputer, MissingIndicator\n",
    "transformer = FeatureUnion(\n",
    "     transformer_list=[\n",
    "         ('features', SimpleImputer(strategy='mean')),\n",
    "         ('indicators', MissingIndicator())])\n",
    "transformer = transformer.fit(X_train, y_train)"
   ]
  },
  {
   "cell_type": "code",
   "execution_count": 16,
   "metadata": {},
   "outputs": [
    {
     "name": "stdout",
     "output_type": "stream",
     "text": [
      "Training set score using DecisionTreeClassifier: 1.00\n",
      "Test set score using DecisionTreeClassifier: 0.90\n",
      "Training set score using LogisticRegression: 0.93\n",
      "Test set score using LogisticRegression: 0.97\n",
      "Training set score using LinearSVC: 0.93\n",
      "Test set score using LinearSVC: 0.97\n",
      "Training set score using RandomForestClassifier: 1.00\n",
      "Test set score using RandomForestClassifier: 0.98\n"
     ]
    }
   ],
   "source": [
    "from sklearn.tree import DecisionTreeClassifier\n",
    "from sklearn.linear_model import LogisticRegression \n",
    "from sklearn.svm import LinearSVC\n",
    "from sklearn.ensemble import RandomForestClassifier\n",
    "from sklearn.metrics import accuracy_score\n",
    "clf = make_pipeline(transformer, DecisionTreeClassifier()).fit(X_train, y_train)\n",
    "logreg = make_pipeline(transformer, LogisticRegression()).fit(X_train, y_train)\n",
    "lsvc = make_pipeline(transformer, LinearSVC()).fit(X_train, y_train)\n",
    "forest = make_pipeline(transformer, RandomForestClassifier()).fit(X_train, y_train)\n",
    "#y_pred_clf = clf.predict(X_test)\n",
    "#y_pred_logreg = logreg.predict(X_test)\n",
    "#y_pred_lsvc = lsvc.predict(X_test)\n",
    "#y_pred_forest = forest.predict(X_test)\n",
    "\n",
    "print(\"Training set score using DecisionTreeClassifier: {:.2f}\".format(clf.score(X_train, y_train)))\n",
    "print(\"Test set score using DecisionTreeClassifier: {:.2f}\".format(clf.score(X_test, y_test)))\n",
    "#print(\"Accuracy using DecisionTreeClassifier: {:.2f}\".format(accuracy_score(y_test, y_pred_clf)))\n",
    "print(\"Training set score using LogisticRegression: {:.2f}\".format(logreg.score(X_train, y_train)))\n",
    "print(\"Test set score using LogisticRegression: {:.2f}\".format(logreg.score(X_test, y_test)))\n",
    "#print(\"Accuracy using LogisticRegression: {:.2f}\".format(accuracy_score(y_test, y_pred_logreg)))\n",
    "print(\"Training set score using LinearSVC: {:.2f}\".format(lsvc.score(X_train, y_train)))\n",
    "print(\"Test set score using LinearSVC: {:.2f}\".format(lsvc.score(X_test, y_test)))\n",
    "#print(\"Accuracy using LinearSVC: {:.2f}\".format(accuracy_score(y_test, y_pred_lsvc)))\n",
    "print(\"Training set score using RandomForestClassifier: {:.2f}\".format(forest.score(X_train, y_train)))\n",
    "print(\"Test set score using RandomForestClassifier: {:.2f}\".format(forest.score(X_test, y_test)))\n",
    "#print(\"Accuracy using RandomForestClassifier: {:.2f}\".format(accuracy_score(y_test, y_pred_forest)))"
   ]
  },
  {
   "cell_type": "markdown",
   "metadata": {},
   "source": [
    "# Build a outlier detection model to classify VAC from CYT, i.e. 0 from 1"
   ]
  },
  {
   "cell_type": "code",
   "execution_count": 17,
   "metadata": {},
   "outputs": [],
   "source": [
    "from sklearn.ensemble import IsolationForest\n",
    "import time\n",
    "from sklearn.preprocessing import StandardScaler\n",
    "from sklearn.pipeline import Pipeline\n",
    "from sklearn.metrics import confusion_matrix\n",
    "from sklearn.metrics import classification_report"
   ]
  },
  {
   "cell_type": "code",
   "execution_count": 18,
   "metadata": {},
   "outputs": [
    {
     "name": "stdout",
     "output_type": "stream",
     "text": [
      "Optimum parameters {'bootstrap': True, 'contamination': 'auto', 'max_features': 5, 'max_samples': 2, 'n_estimators': 50, 'n_jobs': -1}\n"
     ]
    }
   ],
   "source": [
    "# Build a outlier detection model to classify VAC from CYT, i.e. 0 from 1\n",
    "from sklearn.ensemble import IsolationForest\n",
    "from numpy import quantile, where, random\n",
    "from sklearn import model_selection\n",
    "import warnings\n",
    "warnings.filterwarnings(\"ignore\")\n",
    "iforest = IsolationForest()\n",
    "X_orig=df_sliced.iloc[:,:-1].values\n",
    "y_orig=df_sliced.iloc[:,-1].values\n",
    "X_train_orig, X_test_orig, y_train_orig, y_test_orig = train_test_split(X_orig, y_orig)\n",
    "\n",
    "param_grid = {'n_estimators': [50, 100, 200], \n",
    "              'max_samples': [2, 5, 10], \n",
    "              'contamination': ['auto', 0.0001, 0.0002], \n",
    "              'max_features': [5, 10, 15], \n",
    "              'bootstrap': [True], \n",
    "              'n_jobs': [-1]}\n",
    "\n",
    "grid_search = model_selection.GridSearchCV(iforest, \n",
    "                                           param_grid,\n",
    "                                           scoring=\"neg_mean_squared_error\", \n",
    "                                           refit=True, \n",
    "                                           return_train_score=True)\n",
    "grid_search.fit(X_train_orig, y_train_orig)\n",
    "\n",
    "best_model = grid_search.fit(X_train_orig, y_train_orig)\n",
    "print('Optimum parameters', best_model.best_params_)\n"
   ]
  },
  {
   "cell_type": "code",
   "execution_count": 19,
   "metadata": {},
   "outputs": [
    {
     "name": "stdout",
     "output_type": "stream",
     "text": [
      "Cross-validation score: -0.9376897445390597\n",
      "Test score: -1.1693548387096775\n"
     ]
    }
   ],
   "source": [
    "cv_score = grid_search.best_score_\n",
    "test_score = grid_search.score(X_test_orig, y_test_orig)\n",
    "print(f'Cross-validation score: {cv_score}\\nTest score: {test_score}')"
   ]
  },
  {
   "cell_type": "code",
   "execution_count": 20,
   "metadata": {},
   "outputs": [
    {
     "name": "stdout",
     "output_type": "stream",
     "text": [
      "Originial dataset shape:  (369, 8) (369,)\n",
      "After outlier removal:  (369, 8) (369,)\n"
     ]
    }
   ],
   "source": [
    "# Now we will fit an IsolationForest model to the training data\n",
    "iforest = IsolationForest(**best_model.best_params_)\n",
    "y_pred = iforest.fit_predict(X_train_orig)\n",
    "# We can now use the y_pred array to remove the offending values from the X_train and y_train data,\n",
    "# and return the new X_train_iforest and y_train_iforest\n",
    "X_train_iforest, y_train_iforest = X_train_orig[(y_pred != -1), :], y_train_orig[(y_pred != -1)]\n",
    "print(\"Originial dataset shape: \", X_train_orig.shape, y_train_orig.shape)\n",
    "print(\"After outlier removal: \", X_train_iforest.shape, y_train_iforest.shape)"
   ]
  },
  {
   "cell_type": "code",
   "execution_count": 21,
   "metadata": {},
   "outputs": [
    {
     "name": "stdout",
     "output_type": "stream",
     "text": [
      "Originial dataset shape:  (369, 8) (369,)\n",
      "After outlier removal:  (340, 8) (340,)\n"
     ]
    }
   ],
   "source": [
    "# Using best parameters by gridsearchCV didn't identify any outlier. Let's try using basic parameters\n",
    "iforest = IsolationForest()\n",
    "y_pred = iforest.fit_predict(X_train_orig)\n",
    "X_train_iforest, y_train_iforest = X_train_orig[(y_pred != -1), :], y_train_orig[(y_pred != -1)]\n",
    "print(\"Originial dataset shape: \", X_train_orig.shape, y_train_orig.shape)\n",
    "print(\"After outlier removal: \", X_train_iforest.shape, y_train_iforest.shape)"
   ]
  },
  {
   "cell_type": "markdown",
   "metadata": {},
   "source": [
    "Therefore, this outlier detection method has identified some of the values as outlier. Let's try another method."
   ]
  },
  {
   "cell_type": "code",
   "execution_count": 22,
   "metadata": {},
   "outputs": [
    {
     "name": "stdout",
     "output_type": "stream",
     "text": [
      "(369, 8) (369,)\n",
      "(364, 8) (364,)\n"
     ]
    }
   ],
   "source": [
    "# Try DBSCAN for outlier detection\n",
    "from sklearn.cluster import DBSCAN\n",
    "dbscan = DBSCAN().fit(X_train_orig, y_train_orig)\n",
    "y_pred_db = dbscan.fit_predict(X_train_orig)\n",
    "X_train_dbscan, y_train_dbscan = X_train_orig[(y_pred_db != -1), :], y_train_orig[(y_pred_db != -1)]\n",
    "print(X_train_orig.shape, y_train_orig.shape)\n",
    "print(X_train_dbscan.shape, y_train_dbscan.shape)"
   ]
  },
  {
   "cell_type": "markdown",
   "metadata": {},
   "source": [
    "DBSCAN also identified some values as outlier."
   ]
  },
  {
   "cell_type": "code",
   "execution_count": 23,
   "metadata": {},
   "outputs": [
    {
     "name": "stdout",
     "output_type": "stream",
     "text": [
      "Training set score using RandomForestClassifier: 1.0000\n",
      "Test set score using RandomForestClassifier: 0.9435\n",
      "Test set score after IsolationForest: 0.9435\n",
      "Test set score after DBSCAN: 0.9435\n"
     ]
    }
   ],
   "source": [
    "# Let's fit a classifier after removing these outliers\n",
    "forest_orig = RandomForestClassifier().fit(X_train_orig, y_train_orig)\n",
    "forest_IF = RandomForestClassifier().fit(X_train_iforest, y_train_iforest)\n",
    "forest_DB = RandomForestClassifier().fit(X_train_dbscan, y_train_dbscan)\n",
    "print(\"Training set score using RandomForestClassifier: {:.4f}\".format(forest_orig.score(X_train_orig, y_train_orig)))\n",
    "print(\"Test set score using RandomForestClassifier: {:.4f}\".format(forest_orig.score(X_test_orig, y_test_orig)))\n",
    "print(\"Test set score after IsolationForest: {:.4f}\".format(forest_IF.score(X_test_orig, y_test_orig)))\n",
    "print(\"Test set score after DBSCAN: {:.4f}\".format(forest_DB.score(X_test_orig, y_test_orig)))"
   ]
  },
  {
   "cell_type": "markdown",
   "metadata": {},
   "source": [
    "Therefore, outlier removal methods didn't improve the model scores significantly in this situation. Maybe this method would be useful in other situations."
   ]
  },
  {
   "cell_type": "code",
   "execution_count": 24,
   "metadata": {},
   "outputs": [],
   "source": [
    "def machine_learn(model, feature_train, feature_test, target_train, target_test):\n",
    "    start = time.time()\n",
    "    model_pipeline = Pipeline([('ss', StandardScaler()), \n",
    "                              ('model', model)])\n",
    "    fitted_model = model_pipeline.fit(feature_train, target_train)\n",
    "    print(\"Accuracy Score:\", fitted_model.score(feature_test, target_test))\n",
    "    end = time.time()\n",
    "    print('Time consumed {:.2f} seconds for this model'.format(end - start))\n",
    "    model_preds = fitted_model.predict(feature_test)\n",
    "    print(classification_report(target_test, model_preds))\n",
    "    cm=confusion_matrix(target_test, model_preds)\n",
    "    print(cm)\n",
    "    sns.heatmap(cm, annot=True)"
   ]
  },
  {
   "cell_type": "code",
   "execution_count": 25,
   "metadata": {},
   "outputs": [
    {
     "name": "stdout",
     "output_type": "stream",
     "text": [
      "Accuracy Score: 0.9435483870967742\n",
      "Time consumed 0.13 seconds for this model\n",
      "              precision    recall  f1-score   support\n",
      "\n",
      "           0       0.94      1.00      0.97       117\n",
      "           1       0.00      0.00      0.00         7\n",
      "\n",
      "    accuracy                           0.94       124\n",
      "   macro avg       0.47      0.50      0.49       124\n",
      "weighted avg       0.89      0.94      0.92       124\n",
      "\n",
      "[[117   0]\n",
      " [  7   0]]\n"
     ]
    },
    {
     "data": {
      "image/png": "[encoded data removed]",
      "text/plain": [
       "<Figure size 432x288 with 2 Axes>"
      ]
     },
     "metadata": {
      "needs_background": "light"
     },
     "output_type": "display_data"
    }
   ],
   "source": [
    "machine_learn(RandomForestClassifier(), X_train_orig, X_test_orig, y_train_orig, y_test_orig)"
   ]
  },
  {
   "cell_type": "code",
   "execution_count": 26,
   "metadata": {},
   "outputs": [
    {
     "name": "stdout",
     "output_type": "stream",
     "text": [
      "Accuracy Score: 0.9354838709677419\n",
      "Time consumed 0.13 seconds for this model\n",
      "              precision    recall  f1-score   support\n",
      "\n",
      "           0       0.94      0.99      0.97       117\n",
      "           1       0.00      0.00      0.00         7\n",
      "\n",
      "    accuracy                           0.94       124\n",
      "   macro avg       0.47      0.50      0.48       124\n",
      "weighted avg       0.89      0.94      0.91       124\n",
      "\n",
      "[[116   1]\n",
      " [  7   0]]\n"
     ]
    },
    {
     "data": {
      "image/png": "[encoded data removed]",
      "text/plain": [
       "<Figure size 432x288 with 2 Axes>"
      ]
     },
     "metadata": {
      "needs_background": "light"
     },
     "output_type": "display_data"
    }
   ],
   "source": [
    "machine_learn(RandomForestClassifier(), X_train_iforest, X_test_orig, y_train_iforest, y_test_orig)"
   ]
  },
  {
   "cell_type": "code",
   "execution_count": 27,
   "metadata": {},
   "outputs": [
    {
     "name": "stdout",
     "output_type": "stream",
     "text": [
      "Accuracy Score: 0.9435483870967742\n",
      "Time consumed 0.14 seconds for this model\n",
      "              precision    recall  f1-score   support\n",
      "\n",
      "           0       0.94      1.00      0.97       117\n",
      "           1       0.00      0.00      0.00         7\n",
      "\n",
      "    accuracy                           0.94       124\n",
      "   macro avg       0.47      0.50      0.49       124\n",
      "weighted avg       0.89      0.94      0.92       124\n",
      "\n",
      "[[117   0]\n",
      " [  7   0]]\n"
     ]
    },
    {
     "data": {
      "image/png": "[encoded data removed]",
      "text/plain": [
       "<Figure size 432x288 with 2 Axes>"
      ]
     },
     "metadata": {
      "needs_background": "light"
     },
     "output_type": "display_data"
    }
   ],
   "source": [
    "machine_learn(RandomForestClassifier(), X_train_dbscan, X_test_orig, y_train_dbscan, y_test_orig)"
   ]
  },
  {
   "cell_type": "markdown",
   "metadata": {},
   "source": [
    "# Build a classifer using sample augmentation techniques to flassify VAC from CYT, i.e. 0 from 1"
   ]
  },
  {
   "cell_type": "code",
   "execution_count": 28,
   "metadata": {},
   "outputs": [
    {
     "name": "stdout",
     "output_type": "stream",
     "text": [
      "Original target counts:\n",
      "0    343\n",
      "1     26\n",
      "Name: 0, dtype: int64\n"
     ]
    },
    {
     "data": {
      "text/plain": [
       "<matplotlib.axes._subplots.AxesSubplot at 0x7f7de8342850>"
      ]
     },
     "execution_count": 28,
     "metadata": {},
     "output_type": "execute_result"
    },
    {
     "data": {
      "image/png": "[encoded data removed]",
      "text/plain": [
       "<Figure size 432x288 with 1 Axes>"
      ]
     },
     "metadata": {
      "needs_background": "light"
     },
     "output_type": "display_data"
    }
   ],
   "source": [
    "df_train = pd.DataFrame(y_train)\n",
    "#print(df_train.iloc[:,-1].value_counts)\n",
    "df_class_0 = df_train[df_train.iloc[:,-1] == 0]\n",
    "df_class_1 = df_train[df_train.iloc[:,-1] == 1]\n",
    "count_class_0, count_class_1 = df_train.iloc[:,-1].value_counts()\n",
    "print('Original target counts:')\n",
    "print(df_train.iloc[:,-1].value_counts())\n",
    "df_train.iloc[:,-1].value_counts().plot.bar(title='Count (target)', color=('#5bc0de', 'orange'))"
   ]
  },
  {
   "cell_type": "code",
   "execution_count": 29,
   "metadata": {},
   "outputs": [
    {
     "name": "stdout",
     "output_type": "stream",
     "text": [
      "Random under-sampling:\n",
      "1    26\n",
      "0    26\n",
      "Name: 0, dtype: int64\n"
     ]
    },
    {
     "data": {
      "text/plain": [
       "<matplotlib.axes._subplots.AxesSubplot at 0x7f7de82d0110>"
      ]
     },
     "execution_count": 29,
     "metadata": {},
     "output_type": "execute_result"
    },
    {
     "data": {
      "image/png": "[encoded data removed]",
      "text/plain": [
       "<Figure size 432x288 with 1 Axes>"
      ]
     },
     "metadata": {
      "needs_background": "light"
     },
     "output_type": "display_data"
    }
   ],
   "source": [
    "df_class_0_under = df_class_0.sample(count_class_1)\n",
    "df_test_under = pd.concat([df_class_0_under, df_class_1], axis=0)\n",
    "\n",
    "print('Random under-sampling:')\n",
    "print(df_test_under.iloc[:,-1].value_counts())\n",
    "\n",
    "#df_test_under.iloc[:,-1].value_counts().plot(kind='bar', title='Count (target)')\n",
    "df_test_under.iloc[:,-1].value_counts().plot.bar(title='Count (target)', color=('#5bc0de', 'orange'))"
   ]
  },
  {
   "cell_type": "code",
   "execution_count": 30,
   "metadata": {},
   "outputs": [
    {
     "name": "stdout",
     "output_type": "stream",
     "text": [
      "Random over-sampling:\n",
      "1    343\n",
      "0    343\n",
      "Name: 0, dtype: int64\n"
     ]
    },
    {
     "data": {
      "text/plain": [
       "<matplotlib.axes._subplots.AxesSubplot at 0x7f7de8234b90>"
      ]
     },
     "execution_count": 30,
     "metadata": {},
     "output_type": "execute_result"
    },
    {
     "data": {
      "image/png": "[encoded data removed]",
      "text/plain": [
       "<Figure size 432x288 with 1 Axes>"
      ]
     },
     "metadata": {
      "needs_background": "light"
     },
     "output_type": "display_data"
    }
   ],
   "source": [
    "df_class_1_over = df_class_1.sample(count_class_0, replace=True)\n",
    "df_test_over = pd.concat([df_class_0, df_class_1_over], axis=0)\n",
    "\n",
    "print('Random over-sampling:')\n",
    "print(df_test_over.iloc[:,-1].value_counts())\n",
    "\n",
    "df_test_over.iloc[:,-1].value_counts().plot.bar(title='Count (target)', color=('#5bc0de', 'orange'))"
   ]
  },
  {
   "cell_type": "code",
   "execution_count": 31,
   "metadata": {},
   "outputs": [],
   "source": [
    "def plot_2d_space(X, y, label='Classes'):   \n",
    "    colors = ['#1F77B4', '#FF7F0E']\n",
    "    markers = ['o', 's']\n",
    "    for l, c, m in zip(np.unique(y), colors, markers):\n",
    "        plt.scatter(\n",
    "            X[y==l, 0],\n",
    "            X[y==l, 1],\n",
    "            c=c, label=l, marker=m\n",
    "        )\n",
    "    plt.title(label)\n",
    "    plt.legend(loc='upper right')\n",
    "    plt.show()"
   ]
  },
  {
   "cell_type": "code",
   "execution_count": 32,
   "metadata": {},
   "outputs": [
    {
     "data": {
      "image/png": "[encoded data removed]",
      "text/plain": [
       "<Figure size 432x288 with 1 Axes>"
      ]
     },
     "metadata": {
      "needs_background": "light"
     },
     "output_type": "display_data"
    }
   ],
   "source": [
    "from sklearn.decomposition import PCA\n",
    "\n",
    "pca = PCA(n_components=2)\n",
    "#X = pca.fit_transform(X)\n",
    "X=make_pipeline(transformer, pca).fit_transform(X)\n",
    "\n",
    "plot_2d_space(X, y, 'Imbalanced dataset (2 PCA components)')"
   ]
  },
  {
   "cell_type": "code",
   "execution_count": 33,
   "metadata": {},
   "outputs": [
    {
     "name": "stdout",
     "output_type": "stream",
     "text": [
      "Requirement already satisfied: imblearn in /opt/conda/lib/python3.7/site-packages (0.0)\n",
      "Requirement already satisfied: imbalanced-learn in /opt/conda/lib/python3.7/site-packages (from imblearn) (0.8.1)\n",
      "Requirement already satisfied: joblib>=0.11 in /opt/conda/lib/python3.7/site-packages (from imbalanced-learn->imblearn) (0.14.1)\n",
      "Requirement already satisfied: numpy>=1.13.3 in /opt/conda/lib/python3.7/site-packages (from imbalanced-learn->imblearn) (1.18.2)\n",
      "Requirement already satisfied: scipy>=0.19.1 in /opt/conda/lib/python3.7/site-packages (from imbalanced-learn->imblearn) (1.4.1)\n",
      "Requirement already satisfied: scikit-learn>=0.24 in /opt/conda/lib/python3.7/site-packages (from imbalanced-learn->imblearn) (1.0.1)\n",
      "Requirement already satisfied: threadpoolctl>=2.0.0 in /opt/conda/lib/python3.7/site-packages (from scikit-learn>=0.24->imbalanced-learn->imblearn) (3.0.0)\n",
      "Requirement already up-to-date: scikit-learn in /opt/conda/lib/python3.7/site-packages (1.0.1)\n",
      "Requirement already satisfied, skipping upgrade: scipy>=1.1.0 in /opt/conda/lib/python3.7/site-packages (from scikit-learn) (1.4.1)\n",
      "Requirement already satisfied, skipping upgrade: numpy>=1.14.6 in /opt/conda/lib/python3.7/site-packages (from scikit-learn) (1.18.2)\n",
      "Requirement already satisfied, skipping upgrade: threadpoolctl>=2.0.0 in /opt/conda/lib/python3.7/site-packages (from scikit-learn) (3.0.0)\n",
      "Requirement already satisfied, skipping upgrade: joblib>=0.11 in /opt/conda/lib/python3.7/site-packages (from scikit-learn) (0.14.1)\n",
      "Requirement already satisfied: imbalanced-learn in /opt/conda/lib/python3.7/site-packages (0.8.1)\n",
      "Requirement already satisfied: numpy>=1.13.3 in /opt/conda/lib/python3.7/site-packages (from imbalanced-learn) (1.18.2)\n",
      "Requirement already satisfied: scipy>=0.19.1 in /opt/conda/lib/python3.7/site-packages (from imbalanced-learn) (1.4.1)\n",
      "Requirement already satisfied: joblib>=0.11 in /opt/conda/lib/python3.7/site-packages (from imbalanced-learn) (0.14.1)\n",
      "Requirement already satisfied: scikit-learn>=0.24 in /opt/conda/lib/python3.7/site-packages (from imbalanced-learn) (1.0.1)\n",
      "Requirement already satisfied: threadpoolctl>=2.0.0 in /opt/conda/lib/python3.7/site-packages (from scikit-learn>=0.24->imbalanced-learn) (3.0.0)\n"
     ]
    }
   ],
   "source": [
    "!pip install imblearn\n",
    "!pip install --upgrade scikit-learn\n",
    "!pip install imbalanced-learn"
   ]
  },
  {
   "cell_type": "markdown",
   "metadata": {},
   "source": [
    "# Here, I needed to restart the kernel and rerun the following. Otherwise, it was giving error"
   ]
  },
  {
   "cell_type": "code",
   "execution_count": 34,
   "metadata": {},
   "outputs": [
    {
     "name": "stdout",
     "output_type": "stream",
     "text": [
      "Train set shape before SMOTE:  (369, 8)\n",
      "Train set shape after SMOTE:  (692, 8)\n",
      "Test set shape before SMOTE:  (369,)\n",
      "Test set shape after SMOTE:  (692,)\n",
      "Training set score using GradientBoostingClassifier: 0.99\n",
      "Test set score using GradientBoostingClassifier: 0.90\n",
      "Training set score using RandomForestClassifier: 1.00\n",
      "Test set score using RandomForestClassifier: 0.90\n"
     ]
    }
   ],
   "source": [
    "import imblearn\n",
    "from imblearn.over_sampling import SMOTE\n",
    "\n",
    "sm = SMOTE(sampling_strategy='minority')\n",
    "\n",
    "X_train_sm, y_train_sm = sm.fit_resample(X_train_orig, y_train_orig)\n",
    "\n",
    "from sklearn.ensemble import GradientBoostingClassifier\n",
    "clf_gb=GradientBoostingClassifier().fit(X_train_sm, y_train_sm)\n",
    "clf_rf=RandomForestClassifier().fit(X_train_sm, y_train_sm)\n",
    "\n",
    "print(\"Train set shape before SMOTE: \", X_train_orig.shape)\n",
    "print(\"Train set shape after SMOTE: \", X_train_sm.shape)\n",
    "print(\"Test set shape before SMOTE: \", y_train_orig.shape)\n",
    "print(\"Test set shape after SMOTE: \", y_train_sm.shape)\n",
    "print(\"Training set score using GradientBoostingClassifier: {:.2f}\".format(clf_gb.score(X_train_sm, y_train_sm)))\n",
    "print(\"Test set score using GradientBoostingClassifier: {:.2f}\".format(clf_gb.score(X_test_orig, y_test_orig)))\n",
    "print(\"Training set score using RandomForestClassifier: {:.2f}\".format(clf_rf.score(X_train_sm, y_train_sm)))\n",
    "print(\"Test set score using RandomForestClassifier: {:.2f}\".format(clf_rf.score(X_test_orig, y_test_orig)))"
   ]
  },
  {
   "cell_type": "code",
   "execution_count": 35,
   "metadata": {},
   "outputs": [],
   "source": [
    "def model_output(classifier, feature_train, feature_test, target_train, target_test):\n",
    "    start = time.time()\n",
    "    fitted_model = classifier\n",
    "    print(\"Accuracy Score:\", fitted_model.score(feature_test, target_test))\n",
    "    end = time.time()\n",
    "    print('Time consumed {:.2f} seconds for this model'.format(end - start))\n",
    "    model_preds = fitted_model.predict(feature_test)\n",
    "    print(classification_report(target_test, model_preds))\n",
    "    cm=confusion_matrix(target_test, model_preds)\n",
    "    print(cm)\n",
    "    sns.heatmap(cm, annot=True)"
   ]
  },
  {
   "cell_type": "code",
   "execution_count": 36,
   "metadata": {},
   "outputs": [
    {
     "name": "stdout",
     "output_type": "stream",
     "text": [
      "Accuracy Score: 0.8951612903225806\n",
      "Time consumed 0.00 seconds for this model\n",
      "              precision    recall  f1-score   support\n",
      "\n",
      "           0       0.94      0.95      0.94       117\n",
      "           1       0.00      0.00      0.00         7\n",
      "\n",
      "    accuracy                           0.90       124\n",
      "   macro avg       0.47      0.47      0.47       124\n",
      "weighted avg       0.89      0.90      0.89       124\n",
      "\n",
      "[[111   6]\n",
      " [  7   0]]\n"
     ]
    },
    {
     "data": {
      "image/png": "[encoded data removed]",
      "text/plain": [
       "<Figure size 432x288 with 2 Axes>"
      ]
     },
     "metadata": {
      "needs_background": "light"
     },
     "output_type": "display_data"
    }
   ],
   "source": [
    "model_output(clf_gb, X_train_sm, X_test_orig, y_train_sm, y_test_orig)"
   ]
  },
  {
   "cell_type": "code",
   "execution_count": 37,
   "metadata": {},
   "outputs": [
    {
     "name": "stdout",
     "output_type": "stream",
     "text": [
      "Accuracy Score: 0.9032258064516129\n",
      "Time consumed 0.01 seconds for this model\n",
      "              precision    recall  f1-score   support\n",
      "\n",
      "           0       0.94      0.96      0.95       117\n",
      "           1       0.00      0.00      0.00         7\n",
      "\n",
      "    accuracy                           0.90       124\n",
      "   macro avg       0.47      0.48      0.47       124\n",
      "weighted avg       0.89      0.90      0.90       124\n",
      "\n",
      "[[112   5]\n",
      " [  7   0]]\n"
     ]
    },
    {
     "data": {
      "image/png": "[encoded data removed]",
      "text/plain": [
       "<Figure size 432x288 with 2 Axes>"
      ]
     },
     "metadata": {
      "needs_background": "light"
     },
     "output_type": "display_data"
    }
   ],
   "source": [
    "model_output(clf_rf, X_train_sm, X_test_orig, y_train_sm, y_test_orig)"
   ]
  },
  {
   "cell_type": "code",
   "execution_count": 38,
   "metadata": {},
   "outputs": [
    {
     "name": "stdout",
     "output_type": "stream",
     "text": [
      "Cross-validation score: 0.7581985792817877\n",
      "Test score: 0.6172161172161172\n"
     ]
    }
   ],
   "source": [
    "# Trying a model with sclaing, gridsearch etc.\n",
    "from imblearn.pipeline import Pipeline as imbpipeline\n",
    "from sklearn.preprocessing import MinMaxScaler\n",
    "from sklearn.linear_model import LogisticRegression\n",
    "from sklearn.model_selection import GridSearchCV, StratifiedKFold\n",
    "\n",
    "pipeline = imbpipeline(steps = [['smote', SMOTE(random_state=11)],\n",
    "                                ['scaler', MinMaxScaler()],\n",
    "                                ['classifier', RandomForestClassifier()]])\n",
    "\n",
    "stratified_kfold = StratifiedKFold(n_splits=3,\n",
    "                                       shuffle=True,\n",
    "                                       random_state=11)\n",
    "    \n",
    "param_grid = {'classifier__n_estimators':[5, 10, 20, 50, 100]}\n",
    "grid_search = GridSearchCV(estimator=pipeline,\n",
    "                           param_grid=param_grid,\n",
    "                           scoring='roc_auc',\n",
    "                           cv=stratified_kfold,\n",
    "                           n_jobs=-1)\n",
    "\n",
    "grid_search.fit(X_train_orig, y_train_orig)\n",
    "cv_score = grid_search.best_score_\n",
    "test_score = grid_search.score(X_test_orig, y_test_orig)\n",
    "print(f'Cross-validation score: {cv_score}\\nTest score: {test_score}')"
   ]
  },
  {
   "cell_type": "markdown",
   "metadata": {},
   "source": [
    "This extra work didn't produce better result. Therefore, I would stick with the previous one for this problem."
   ]
  }
 ],
 "metadata": {
  "kernelspec": {
   "display_name": "Python 3",
   "language": "python",
   "name": "python3"
  },
  "language_info": {
   "codemirror_mode": {
    "name": "ipython",
    "version": 3
   },
   "file_extension": ".py",
   "mimetype": "text/x-python",
   "name": "python",
   "nbconvert_exporter": "python",
   "pygments_lexer": "ipython3",
   "version": "3.7.6"
  }
 },
 "nbformat": 4,
 "nbformat_minor": 4
}
